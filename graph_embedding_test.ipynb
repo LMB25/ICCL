{
 "cells": [
  {
   "cell_type": "code",
   "execution_count": 11,
   "metadata": {},
   "outputs": [],
   "source": [
    "from ocpa.algo.predictive_monitoring import factory as predictive_monitoring\n",
    "from ocpa.algo.predictive_monitoring import tabular, sequential\n",
    "import networkx as nx\n",
    "import pandas as pd\n",
    "from karateclub.graph_embedding import graph2vec\n",
    "from karateclub import DeepWalk, Walklets\n",
    "import node2vec \n",
    "from collections import Counter"
   ]
  },
  {
   "cell_type": "code",
   "execution_count": 15,
   "metadata": {},
   "outputs": [],
   "source": [
    "from ocpa.objects.log.importer.ocel import factory as ocel_import_factory\n",
    "\n",
    "def load_ocel(path):\n",
    "    if path.endswith(\"jsonocel\"):\n",
    "        ocel_file = ocel_import_factory.apply(path)\n",
    "    elif path.endswith(\"xmlocel\"):\n",
    "        ocel_file = ocel_import_factory.apply(path)\n",
    "    else:\n",
    "        error_msg = \"not a valid extension\"\n",
    "        return error_msg\n",
    "    return ocel_file"
   ]
  },
  {
   "cell_type": "code",
   "execution_count": 12,
   "metadata": {},
   "outputs": [],
   "source": [
    "def get_process_executions(ocel):\n",
    "    # default: connected components\n",
    "    return ocel.process_executions\n",
    "\n",
    "def get_events_process_exection(ocel, id):\n",
    "    return ocel.process_executions[id]\n",
    "\n",
    "def get_objects_process_execution(ocel, id):\n",
    "    return ocel.process_execution_objects[id]\n",
    "\n",
    "def get_process_execution_graph(ocel, id):\n",
    "    return ocel.get_process_execution_graph(id)\n",
    "\n",
    "def get_variant_process_executions(ocel):\n",
    "    return ocel.variants_dict()"
   ]
  },
  {
   "cell_type": "code",
   "execution_count": 13,
   "metadata": {},
   "outputs": [],
   "source": [
    "def remap_nodes(graph):\n",
    "    node_mapping = dict((node.event_id, i) for i, node in enumerate(graph.nodes))\n",
    "    return node_mapping\n",
    "\n",
    "def feature_graphs_to_nx_graphs(feature_graphs):\n",
    "    graph_list = []\n",
    "    for feature_graph in feature_graphs:\n",
    "        #G = nx.DiGraph()\n",
    "        G = nx.Graph()\n",
    "\n",
    "        \n",
    "        for node in feature_graph.nodes:\n",
    "            G.add_node(node.event_id)\n",
    "\n",
    "        for edge in feature_graph.edges:\n",
    "            G.add_edge(edge.source, edge.target)\n",
    "\n",
    "        graph_list.append(G)\n",
    "\n",
    "    return graph_list\n",
    "\n",
    "def perform_graph2vec(graph_list):\n",
    "    model = graph2vec.Graph2Vec(attributed=True)\n",
    "    model.fit(graph_list)\n",
    "    X = model.get_embedding()\n",
    "\n",
    "    return X"
   ]
  },
  {
   "cell_type": "code",
   "execution_count": 14,
   "metadata": {},
   "outputs": [],
   "source": [
    "def extract_features(ocel_log, feature_set_event, feature_set_obj, repr):\n",
    "    extraction = []\n",
    "    feature_storage = predictive_monitoring.apply(ocel_log, feature_set_event, feature_set_obj)\n",
    "    extraction.append(feature_storage)\n",
    "    if repr == 'table':\n",
    "        table = tabular.construct_table(feature_storage)\n",
    "        extraction.append(table)\n",
    "    elif repr == 'sequential':\n",
    "        sequences = sequential.construct_sequence(feature_storage)\n",
    "        extraction.append(sequences)\n",
    "    return extraction"
   ]
  },
  {
   "cell_type": "code",
   "execution_count": null,
   "metadata": {},
   "outputs": [],
   "source": [
    "def construct_object_df(ocel_log):\n",
    "    object_types = ocel_log.object_types\n",
    "    df = pd.DataFrame(columns=[type for type in object_types])\n",
    "    proc_ex = get_process_executions(ocel_log)\n",
    "    num_pr_ex = len(proc_ex)\n",
    "    for i in range(0, num_pr_ex):\n",
    "        execution = proc_ex[i]\n",
    "        obj = get_objects_process_execution(ocel_log, i)\n",
    "        obj_count = Counter(elem[0] for elem in obj)\n",
    "        obj_dict = pd.DataFrame([obj_count])\n",
    "        df = pd.concat([df, obj_dict], ignore_index=True)\n",
    "    return df"
   ]
  },
  {
   "cell_type": "markdown",
   "metadata": {},
   "source": [
    "**Test Feature Extraction**"
   ]
  },
  {
   "cell_type": "code",
   "execution_count": 16,
   "metadata": {},
   "outputs": [],
   "source": [
    "path = \"C:\\\\Users\\\\linab\\\\Documents\\\\RWTH Aachen\\\\Studium\\\\Semester 3\\\\Process Discovery\\\\Samples\\\\p2p-normal.jsonocel\"\n",
    "ocel_log = load_ocel(path)"
   ]
  },
  {
   "cell_type": "code",
   "execution_count": 17,
   "metadata": {},
   "outputs": [],
   "source": [
    "# Feature extraction\n",
    "activities = list(set(ocel_log.log.log[\"event_activity\"].tolist()))\n",
    "feature_set = [(predictive_monitoring.EVENT_REMAINING_TIME, ()),\n",
    "               (predictive_monitoring.EVENT_ELAPSED_TIME, ())] + \\\n",
    "              [(predictive_monitoring.EVENT_PRECEDING_ACTIVITES, (act,)) for act in activities]\n"
   ]
  },
  {
   "cell_type": "code",
   "execution_count": 18,
   "metadata": {},
   "outputs": [],
   "source": [
    "feature_storage = extract_features(ocel_log, feature_set, [], \"\")[0]"
   ]
  },
  {
   "cell_type": "code",
   "execution_count": 20,
   "metadata": {},
   "outputs": [],
   "source": [
    "# get first graph\n",
    "feature_graph = feature_storage.feature_graphs[0]"
   ]
  },
  {
   "cell_type": "code",
   "execution_count": 22,
   "metadata": {},
   "outputs": [
    {
     "name": "stdout",
     "output_type": "stream",
     "text": [
      "7\n",
      "3\n",
      "8\n",
      "6\n",
      "1\n",
      "4\n",
      "2\n",
      "5\n",
      "0\n"
     ]
    }
   ],
   "source": [
    "# print nodes\n",
    "for node in feature_graph.nodes:\n",
    "    print(node.event_id)"
   ]
  },
  {
   "cell_type": "code",
   "execution_count": 23,
   "metadata": {},
   "outputs": [
    {
     "name": "stdout",
     "output_type": "stream",
     "text": [
      "3 4\n",
      "3 6\n",
      "3 8\n",
      "6 8\n",
      "1 2\n",
      "4 5\n",
      "2 3\n",
      "5 7\n",
      "0 1\n"
     ]
    }
   ],
   "source": [
    "# print edges source/ target\n",
    "for edge in feature_graph.edges:\n",
    "    print(edge.source, edge.target)"
   ]
  },
  {
   "cell_type": "code",
   "execution_count": 24,
   "metadata": {},
   "outputs": [],
   "source": [
    "# get nx graph\n",
    "feature_nx_graph = feature_graphs_to_nx_graphs([feature_graph])[0]"
   ]
  },
  {
   "cell_type": "code",
   "execution_count": 26,
   "metadata": {},
   "outputs": [
    {
     "data": {
      "image/png": "[encoded data removed]",
      "text/plain": [
       "<Figure size 432x288 with 1 Axes>"
      ]
     },
     "metadata": {},
     "output_type": "display_data"
    }
   ],
   "source": [
    "# draw graph\n",
    "nx.draw(feature_nx_graph, with_labels=True)"
   ]
  }
 ],
 "metadata": {
  "kernelspec": {
   "display_name": "Python 3.9.13 64-bit (microsoft store)",
   "language": "python",
   "name": "python3"
  },
  "language_info": {
   "codemirror_mode": {
    "name": "ipython",
    "version": 3
   },
   "file_extension": ".py",
   "mimetype": "text/x-python",
   "name": "python",
   "nbconvert_exporter": "python",
   "pygments_lexer": "ipython3",
   "version": "3.9.13"
  },
  "orig_nbformat": 4,
  "vscode": {
   "interpreter": {
    "hash": "9a29511bac30a5bcbb21734c52739113f9302bbd6d821c3fca340c0f0260e187"
   }
  }
 },
 "nbformat": 4,
 "nbformat_minor": 2
}
