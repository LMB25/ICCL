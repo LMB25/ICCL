{
 "cells": [
  {
   "cell_type": "code",
   "execution_count": 1,
   "metadata": {},
   "outputs": [
    {
     "name": "stderr",
     "output_type": "stream",
     "text": [
      "C:\\Users\\linab\\AppData\\Local\\Packages\\PythonSoftwareFoundation.Python.3.9_qbz5n2kfra8p0\\LocalCache\\local-packages\\Python39\\site-packages\\pm4py\\objects\\petri\\__init__.py:19: UserWarning: please use the pm4py.objects.petri_net package instead.\n",
      "  warnings.warn('please use the pm4py.objects.petri_net package instead.')\n",
      "C:\\Users\\linab\\AppData\\Local\\Packages\\PythonSoftwareFoundation.Python.3.9_qbz5n2kfra8p0\\LocalCache\\local-packages\\Python39\\site-packages\\pm4py\\objects\\petri\\obj.py:19: UserWarning: pm4py.objects.petri.obj is deprecated. Please use the class pm4py.objects.petri_net.obj instead.\n",
      "  warnings.warn(\"pm4py.objects.petri.obj is deprecated. Please use the class pm4py.objects.petri_net.obj instead.\")\n",
      "C:\\Users\\linab\\AppData\\Local\\Packages\\PythonSoftwareFoundation.Python.3.9_qbz5n2kfra8p0\\LocalCache\\local-packages\\Python39\\site-packages\\pm4py\\objects\\petri\\exporter\\__init__.py:21: UserWarning: please use the pm4py.objects.petri_net.exporter package instead.\n",
      "  warnings.warn('please use the pm4py.objects.petri_net.exporter package instead.')\n",
      "C:\\Users\\linab\\AppData\\Local\\Packages\\PythonSoftwareFoundation.Python.3.9_qbz5n2kfra8p0\\LocalCache\\local-packages\\Python39\\site-packages\\pm4py\\objects\\petri\\importer\\__init__.py:21: UserWarning: please use the pm4py.objects.petri_net.importer package instead.\n",
      "  warnings.warn('please use the pm4py.objects.petri_net.importer package instead.')\n",
      "C:\\Users\\linab\\AppData\\Local\\Packages\\PythonSoftwareFoundation.Python.3.9_qbz5n2kfra8p0\\LocalCache\\local-packages\\Python39\\site-packages\\pm4py\\objects\\petri\\petrinet.py:19: UserWarning: pm4py.objects.petri.petrinet is deprecated. Please use the class pm4py.objects.petri_net.obj instead.\n",
      "  warnings.warn(\"pm4py.objects.petri.petrinet is deprecated. Please use the class pm4py.objects.petri_net.obj instead.\")\n",
      "C:\\Users\\linab\\AppData\\Local\\Packages\\PythonSoftwareFoundation.Python.3.9_qbz5n2kfra8p0\\LocalCache\\local-packages\\Python39\\site-packages\\pm4py\\visualization\\petrinet\\__init__.py:20: UserWarning: please use the pm4py.visualization.petri_net package instead\n",
      "  warnings.warn(\"please use the pm4py.visualization.petri_net package instead\")\n"
     ]
    }
   ],
   "source": [
    "from ocpa.algo.predictive_monitoring import factory as predictive_monitoring\n",
    "from ocpa.algo.predictive_monitoring import tabular, sequential\n",
    "import networkx as nx\n",
    "import pandas as pd\n",
    "from karateclub.graph_embedding import graph2vec\n",
    "from karateclub import DeepWalk, Walklets\n",
    "import node2vec \n",
    "from collections import Counter"
   ]
  },
  {
   "cell_type": "code",
   "execution_count": 2,
   "metadata": {},
   "outputs": [],
   "source": [
    "from ocpa.objects.log.importer.ocel import factory as ocel_import_factory\n",
    "\n",
    "def load_ocel(path):\n",
    "    if path.endswith(\"jsonocel\"):\n",
    "        ocel_file = ocel_import_factory.apply(path)\n",
    "    elif path.endswith(\"xmlocel\"):\n",
    "        ocel_file = ocel_import_factory.apply(path)\n",
    "    else:\n",
    "        error_msg = \"not a valid extension\"\n",
    "        return error_msg\n",
    "    return ocel_file"
   ]
  },
  {
   "cell_type": "code",
   "execution_count": 3,
   "metadata": {},
   "outputs": [],
   "source": [
    "from ocpa.objects.log.importer.csv import factory as ocel_import_factory_csv\n",
    "\n",
    "def load_csv(path, params):\n",
    "    ocel_file = ocel_import_factory_csv.apply(path, parameters=params)\n",
    "    return ocel_file"
   ]
  },
  {
   "cell_type": "code",
   "execution_count": 4,
   "metadata": {},
   "outputs": [],
   "source": [
    "def get_process_executions(ocel):\n",
    "    # default: connected components\n",
    "    return ocel.process_executions\n",
    "\n",
    "def convert_process_executions_tolist(process_executions):\n",
    "    process_executions_list = [list(process_ex) for process_ex in process_executions]\n",
    "    return process_executions_list\n",
    "\n",
    "def get_events_process_exection(ocel, id):\n",
    "    return ocel.process_executions[id]\n",
    "\n",
    "def get_objects_process_execution(ocel, id):\n",
    "    return ocel.process_execution_objects[id]\n",
    "\n",
    "def get_process_execution_graph(ocel, id):\n",
    "    return ocel.get_process_execution_graph(id)\n",
    "\n",
    "def get_variant_process_executions(ocel):\n",
    "    return ocel.variants_dict()"
   ]
  },
  {
   "cell_type": "code",
   "execution_count": 5,
   "metadata": {},
   "outputs": [],
   "source": [
    "def remap_nodes(graph):\n",
    "    node_mapping = dict((node.event_id, i) for i, node in enumerate(graph.nodes))\n",
    "    return node_mapping\n",
    "\n",
    "def feature_graphs_to_nx_graphs(feature_graphs):\n",
    "    graph_list = []\n",
    "    for feature_graph in feature_graphs:\n",
    "        #G = nx.DiGraph()\n",
    "        G = nx.Graph()\n",
    "\n",
    "        node_dict = remap_nodes(feature_graph)\n",
    "\n",
    "        # replace node attribute dict keys (tuples) with only first part of tuple\n",
    "        for node in feature_graph.nodes:\n",
    "            new_keys = [key[0] for key in node.attributes.keys()]\n",
    "            # graph2vec needs str features\n",
    "            new_vals = [str(val) for val in node.attributes.values()]\n",
    "            #node_attributes = dict(zip(new_keys, node.attributes.values()))\n",
    "            node_attributes = dict(zip(new_keys, new_vals))\n",
    "            G.add_node(node_dict[node.event_id], **node_attributes)\n",
    "            #G.add_node(node.event_id, **node_attributes)\n",
    "\n",
    "        for edge in feature_graph.edges:\n",
    "            G.add_edge(node_dict[edge.source], node_dict[edge.target])\n",
    "            #G.add_edge(edge.source, edge.target)\n",
    "\n",
    "        graph_list.append(G)\n",
    "\n",
    "    return graph_list"
   ]
  },
  {
   "cell_type": "code",
   "execution_count": 6,
   "metadata": {},
   "outputs": [],
   "source": [
    "def extract_features(ocel_log, feature_set_event, feature_set_obj, repr):\n",
    "    extraction = []\n",
    "    feature_storage = predictive_monitoring.apply(ocel_log, feature_set_event, feature_set_obj)\n",
    "    extraction.append(feature_storage)\n",
    "    if repr == 'table':\n",
    "        table = tabular.construct_table(feature_storage)\n",
    "        extraction.append(table)\n",
    "    elif repr == 'sequential':\n",
    "        sequences = sequential.construct_sequence(feature_storage)\n",
    "        extraction.append(sequences)\n",
    "    return extraction"
   ]
  },
  {
   "cell_type": "code",
   "execution_count": 6,
   "metadata": {},
   "outputs": [],
   "source": [
    "def construct_object_df(ocel_log):\n",
    "    object_types = ocel_log.object_types\n",
    "    df = pd.DataFrame(columns=[type for type in object_types])\n",
    "    proc_ex = get_process_executions(ocel_log)\n",
    "    num_pr_ex = len(proc_ex)\n",
    "    for i in range(0, num_pr_ex):\n",
    "        execution = proc_ex[i]\n",
    "        obj = get_objects_process_execution(ocel_log, i)\n",
    "        obj_count = Counter(elem[0] for elem in obj)\n",
    "        obj_dict = pd.DataFrame([obj_count])\n",
    "        df = pd.concat([df, obj_dict], ignore_index=True)\n",
    "    return df"
   ]
  },
  {
   "cell_type": "markdown",
   "metadata": {},
   "source": [
    "**Test Feature Extraction**"
   ]
  },
  {
   "cell_type": "code",
   "execution_count": 71,
   "metadata": {},
   "outputs": [],
   "source": [
    "'''\n",
    "path = \"C:\\\\Users\\\\linab\\\\Documents\\\\RWTH Aachen\\\\Studium\\\\Semester 3\\\\Process Discovery\\\\Samples\\\\BPI2017-Final.csv\"\n",
    "params = {\"obj_names\":[\"application\", \"offer\"],\n",
    "                \"val_names\":[],\n",
    "                \"act_name\":\"event_activity\",\n",
    "                \"time_name\":\"event_timestamp\",\n",
    "                \"sep\":\",\"}\n",
    "ocel_log = load_csv(path, params)\n",
    "'''\n",
    "#ocel_log = load_ocel(path)"
   ]
  },
  {
   "cell_type": "code",
   "execution_count": 108,
   "metadata": {},
   "outputs": [],
   "source": [
    "path = \"C:\\\\Users\\\\linab\\\\Documents\\\\RWTH Aachen\\\\Studium\\\\Semester 3\\\\Process Discovery\\\\Samples\\\\order_process.jsonocel\"\n",
    "ocel_log = load_ocel(path)"
   ]
  },
  {
   "cell_type": "code",
   "execution_count": 109,
   "metadata": {},
   "outputs": [
    {
     "name": "stderr",
     "output_type": "stream",
     "text": [
      "C:\\Users\\linab\\AppData\\Local\\Packages\\PythonSoftwareFoundation.Python.3.9_qbz5n2kfra8p0\\LocalCache\\local-packages\\Python39\\site-packages\\pandas\\core\\frame.py:1549: FutureWarning: Using short name for 'orient' is deprecated. Only the options: ('dict', list, 'series', 'split', 'records', 'index') will be used in a future version. Use one of the above to silence this warning.\n",
      "  warnings.warn(\n"
     ]
    },
    {
     "name": "stdout",
     "output_type": "stream",
     "text": [
      "     event_id             time:timestamp      concept:name  \\\n",
      "0           0 2022-10-20 16:56:19.864004       Place Order   \n",
      "3           1 2022-10-20 16:56:20.864004     Confirm Order   \n",
      "8           4 2022-10-20 17:01:51.864004         Pay Order   \n",
      "9           5 2022-10-20 17:06:18.864004       Place Order   \n",
      "12          6 2022-10-20 17:06:19.864004     Confirm Order   \n",
      "...       ...                        ...               ...   \n",
      "3232     1896 2022-10-31 21:08:02.870968  Payment Reminder   \n",
      "3250     1904 2022-11-02 10:39:59.870968         Pay Order   \n",
      "3251     1905 2022-11-02 14:51:06.870968  Payment Reminder   \n",
      "3252     1906 2022-11-02 23:09:16.870968         Pay Order   \n",
      "3327     1939 2022-11-04 16:44:33.870968         Pay Order   \n",
      "\n",
      "          event_start_timestamp case:concept:name  \n",
      "0    2022-10-20 16:56:19.864004            order1  \n",
      "3    2022-10-20 16:56:20.864004            order1  \n",
      "8    2022-10-20 17:01:51.864004            order1  \n",
      "9    2022-10-20 17:06:18.864004            order2  \n",
      "12   2022-10-20 17:06:19.864004            order2  \n",
      "...                         ...               ...  \n",
      "3232 2022-10-31 21:08:02.870968          order108  \n",
      "3250 2022-11-02 10:39:59.870968           order36  \n",
      "3251 2022-11-02 14:51:06.870968           order58  \n",
      "3252 2022-11-02 23:09:16.870968          order108  \n",
      "3327 2022-11-04 16:44:33.870968           order58  \n",
      "\n",
      "[795 rows x 5 columns]\n",
      "     event_id             time:timestamp   concept:name  \\\n",
      "1           0 2022-10-20 16:56:19.864004    Place Order   \n",
      "2           0 2022-10-20 16:56:19.864004    Place Order   \n",
      "4           1 2022-10-20 16:56:20.864004  Confirm Order   \n",
      "5           1 2022-10-20 16:56:20.864004  Confirm Order   \n",
      "6           2 2022-10-20 17:01:51.864004      Pick Item   \n",
      "...       ...                        ...            ...   \n",
      "4372     2387 2022-12-18 04:01:04.871959      End Route   \n",
      "4375     2389 2022-12-18 07:25:24.871959    Start Route   \n",
      "4376     2389 2022-12-18 07:25:24.871959    Start Route   \n",
      "4378     2390 2022-12-18 12:23:32.871959      End Route   \n",
      "4379     2390 2022-12-18 12:23:32.871959      End Route   \n",
      "\n",
      "          event_start_timestamp case:concept:name  \n",
      "1    2022-10-20 16:56:19.864004             item2  \n",
      "2    2022-10-20 16:56:19.864004             item3  \n",
      "4    2022-10-20 16:56:20.864004             item2  \n",
      "5    2022-10-20 16:56:20.864004             item3  \n",
      "6    2022-10-20 17:01:51.864004             item3  \n",
      "...                         ...               ...  \n",
      "4372 2022-12-18 04:01:04.871959           item199  \n",
      "4375 2022-12-18 07:25:24.871959           item259  \n",
      "4376 2022-12-18 07:25:24.871959           item265  \n",
      "4378 2022-12-18 12:23:32.871959           item259  \n",
      "4379 2022-12-18 12:23:32.871959           item265  \n",
      "\n",
      "[2790 rows x 5 columns]\n",
      "     event_id             time:timestamp concept:name  \\\n",
      "43         25 2022-10-20 17:32:13.864004   Load Cargo   \n",
      "85         49 2022-10-20 18:10:45.864004   Load Cargo   \n",
      "98         56 2022-10-20 18:20:12.864004   Load Cargo   \n",
      "121        69 2022-10-20 18:40:39.864004   Load Cargo   \n",
      "141        79 2022-10-20 18:59:34.864004   Load Cargo   \n",
      "...       ...                        ...          ...   \n",
      "4370     2386 2022-12-17 23:00:15.871959  Start Route   \n",
      "4373     2387 2022-12-18 04:01:04.871959    End Route   \n",
      "4374     2388 2022-12-18 06:59:45.871959     Fuel Car   \n",
      "4377     2389 2022-12-18 07:25:24.871959  Start Route   \n",
      "4380     2390 2022-12-18 12:23:32.871959    End Route   \n",
      "\n",
      "          event_start_timestamp case:concept:name  \n",
      "43   2022-10-20 17:32:13.864004         delivery3  \n",
      "85   2022-10-20 18:10:45.864004         delivery1  \n",
      "98   2022-10-20 18:20:12.864004         delivery7  \n",
      "121  2022-10-20 18:40:39.864004         delivery5  \n",
      "141  2022-10-20 18:59:34.864004         delivery6  \n",
      "...                         ...               ...  \n",
      "4370 2022-12-17 23:00:15.871959        delivery64  \n",
      "4373 2022-12-18 04:01:04.871959        delivery64  \n",
      "4374 2022-12-18 06:59:45.871959       delivery193  \n",
      "4377 2022-12-18 07:25:24.871959       delivery193  \n",
      "4380 2022-12-18 12:23:32.871959       delivery193  \n",
      "\n",
      "[796 rows x 5 columns]\n"
     ]
    }
   ],
   "source": [
    "from ocpa.algo.discovery.ocpn import algorithm as ocpn_discovery_factory\n",
    "from ocpa.visualization.oc_petri_net import factory as ocpn_vis_factory\n",
    "\n",
    "ocpn = ocpn_discovery_factory.apply(ocel_log, parameters={\"debug\": False})\n",
    "ocpn_vis_factory.save(ocpn_vis_factory.apply(ocpn), \"oc_petri_net12345.png\")\n"
   ]
  },
  {
   "cell_type": "code",
   "execution_count": 110,
   "metadata": {},
   "outputs": [
    {
     "name": "stdout",
     "output_type": "stream",
     "text": [
      "[['297', '1327', '369', '1576', '591', '1728', '558', '302', '476', '1186', '2225', '313', '1812', '1346', '1280', '334', '1087', '946', '1199', '1475', '1964', '926', '2014', '1382', '950', '866', '1539', '1171', '1482', '1485', '1779', '2298', '2109', '1507', '2130', '1053', '1562', '880', '1359', '2183', '678', '1657', '452', '549', '1124', '1454', '1692', '1214', '2344', '1957', '1249', '2232', '1626', '478', '1962', '1229', '353', '1749', '2128', '2313', '30', '121', '307', '960', '857', '1358', '1026', '81', '2087', '130', '1211', '105', '1860', '1251', '805', '2250', '305', '224', '2182', '187', '1797', '2263', '1302', '1276', '2383', '2117', '2324', '491', '1558', '114', '1227', '1919', '309', '1549', '471', '1284', '1671', '1981', '2273', '912', '1854', '1993', '1823', '103', '1729', '1951', '897', '839', '58', '1992', '1594', '2053', '828', '446', '1751', '2144', '592', '1141', '1068', '1230', '2335', '370', '1164', '1031', '506', '1597', '900', '825', '532', '2300', '1505', '2099', '2110', '1791', '1347', '426', '1405', '1950', '2107', '987', '2315', '1143', '1394', '1110', '635', '161', '536', '1858', '2039', '169', '2320', '793', '2374', '1853', '325', '1560', '483', '299', '1695', '1035', '938', '1044', '1019', '1350', '1552', '1045', '335', '764', '877', '1861', '1288', '1155', '551', '267', '1825', '197', '1113', '486', '113', '1467', '853', '1272', '440', '798', '565', '1608', '1917', '940', '2187', '1980', '674', '794', '567', '1629', '1281', '1364', '2069', '1772', '1134', '292', '708', '1038', '1864', '1465', '354', '1748', '721', '1252', '2275', '1279', '189', '1935', '1764', '1368', '1954', '1331', '1871', '2388', '1570', '680', '2197', '932', '1538', '1014', '1510', '1180', '1524', '2017', '1077', '41', '1706', '441', '2060', '947', '581', '293', '1518', '235', '2366', '186', '1004', '1426', '1885', '1474', '1417', '2369', '1700', '2358', '1142', '1613', '1293', '193', '583', '1647', '682', '127', '1248', '2360', '688', '1548', '2365', '722', '1581', '132', '104', '2213', '1056', '2048', '791', '195', '1317', '1713', '271', '778', '2235', '1027', '669', '1150', '371', '1959', '1820', '2319', '59', '509', '2150', '1881', '560', '35', '780', '1101', '93', '1340', '1268', '219', '1367', '2061', '150', '526', '561', '223', '921', '495', '540', '671', '2252', '1678', '782', '1036', '390', '2387', '2188', '1422', '1410', '1470', '937', '203', '1221', '444', '513', '690', '2102', '1527', '1400', '487', '571', '391', '237', '128', '1674', '227', '236', '1285', '1661', '868', '821', '438', '542', '852', '2021', '989', '2112', '344', '133', '876', '1965', '1438', '1499', '112', '1925', '88', '1868', '492', '1742', '1883', '79', '1020', '1624', '1478', '1766', '2040', '1952', '45', '2180', '1441', '1709', '143', '639', '626', '786', '424', '855', '1372', '757', '261', '1011', '314', '1961', '290', '1153', '1886', '562', '5', '2238', '1046', '467', '2297', '2283', '40', '519', '1314', '2022', '1940', '1377', '696', '429', '1356', '1496', '1918', '644', '323', '2177', '2265', '1842', '1413', '454', '2044', '2190', '122', '2256', '1187', '2073', '1904', '1172', '387', '2033', '2146', '1665', '2105', '1927', '85', '732', '477', '735', '820', '148', '1016', '2301', '1533', '906', '1715', '1144', '687', '468', '78', '2251', '1948', '2058', '768', '2285', '525', '1818', '981', '39', '321', '389', '2202', '578', '2145', '1094', '1052', '856', '1845', '922', '1511', '784', '1668', '766', '1529', '2133', '232', '1292', '1621', '1690', '1374', '1096', '1782', '2375', '1620', '294', '1057', '1210', '455', '1605', '1140', '1095', '803', '2096', '547', '1628', '83', '2194', '496', '1846', '2181', '1165', '1160', '1606', '149', '2068', '672', '1341', '337', '2296', '1857', '1296', '979', '2042', '553', '1435', '338', '1018', '517', '1298', '90', '2151', '1808', '2357', '1089', '437', '2023', '1258', '1461', '228', '1682', '1459', '381', '2184', '1971', '829', '229', '843', '1042', '2091', '1508', '2001', '273', '530', '1024', '1901', '1254', '2317', '144', '109', '982', '1847', '300', '1025', '854', '1209', '858', '2020', '1439', '1974', '1304', '2131', '2030', '1866', '333', '357', '1739', '108', '1660', '2379', '1663', '1479', '1132', '2027', '949', '1170', '1104', '1174', '1075', '1870', '306', '1741', '1607', '1213', '1154', '1428', '2132', '1023', '539', '1893', '974', '1307', '1200', '262', '1193', '957', '1679', '573', '2316', '1122', '141', '152', '546', '2222', '978', '136', '1555', '1071', '2367', '986', '493', '52', '1580', '882', '681', '1687', '943', '1323', '1627', '2323', '404', '1073', '2137', '1466', '878', '91', '2049', '1161', '1070', '1757', '131', '1436', '1190', '111', '1888', '154', '2311', '1724', '1456', '1162', '788', '1398', '1585', '2219', '1063', '367', '49', '2217', '270', '2127', '462', '1589', '914', '56', '475', '1102', '200', '777', '1049', '1990', '2166', '202', '1099', '904', '1955', '1290', '238', '97', '1273', '137', '266', '945', '1158', '220', '1373', '1653', '1002', '944', '1669', '697', '2148', '1009', '2368', '37', '2055', '1843', '1484', '1745', '1090', '1464', '502', '648', '165', '1458', '1393', '2318', '2072', '117', '2343', '498', '1255', '2223', '1991', '841', '2277', '1448', '1114', '42', '1451', '1635', '77', '317', '1345', '625', '1960', '82', '1516', '616', '1633', '1176', '1649', '1490', '2119', '60', '2239', '194', '1760', '2342', '1903', '2326', '619', '1061', '1100', '1424', '2002', '2328', '138', '339', '2299', '844', '923', '428', '318', '952', '2141', '1889', '515', '985', '1212', '1683', '993', '466', '516', '1554', '698', '1278', '607', '556', '1066', '1783', '126', '2363', '2094', '2189', '651', '1615', '1021', '1805', '624', '1996', '994', '147', '641', '401', '2095', '196', '2242', '2134', '2327', '1371', '2341', '2262', '1879', '1689', '2203', '115', '1514', '2306', '2386', '2243', '1139', '1433', '1637', '445', '1513', '501', '2201', '2310', '2282', '850', '1427', '665', '1003', '1865', '598', '1442', '555', '1744', '386', '1008', '1125', '951', '1656', '684', '2063', '1201', '1236', '1967', '1515', '929', '756', '1137', '192', '2376', '359', '1913', '1060', '1537', '2108', '948', '534', '675', '2362', '1396', '730', '2078', '1231', '953', '1926', '754', '1226', '304', '566', '50', '1829', '168', '602', '1127', '910', '559', '1157', '1192', '44', '1817', '2036', '2303', '310', '1415', '1611', '2029', '2207', '358', '824', '1380', '7', '163', '1403', '1750', '118', '1128', '435', '2104', '29', '564', '1622', '222', '2260', '779', '1896', '100', '776', '647', '1801', '1480', '1473', '1949', '1055', '173', '716', '1634', '899', '521', '714', '1239', '980', '1676', '1337', '106', '442', '2149', '823', '1717', '1369', '819', '1185', '1476', '1702', '2043', '1775', '1525', '1177', '2278', '1723', '1182', '1758', '859', '693', '589', '664', '996', '1596', '1701', '618', '2293', '1688', '494', '221', '1445', '1603', '650', '2046', '1401', '172', '895', '720', '2139', '116', '1834', '423', '213', '87', '1640', '1747', '472', '2185', '1721', '2114', '2210', '1803', '1703', '191', '1798', '1275', '535', '1617', '879', '576', '2246', '1822', '1423', '649', '1816', '1167', '689', '1194', '1711', '1034', '875', '1497', '1754', '1320', '2281', '348', '2353', '1526', '667', '2234', '2330', '54', '352', '901', '405', '1431', '1289', '2115', '1726', '1970', '842', '528', '1119', '2340', '815', '1584', '1316', '1208', '691', '1559', '1666', '38', '1321', '731', '2179', '1641', '460', '1131', '1827', '1301', '1315', '1450', '2214', '427', '523', '2138', '892', '533', '1495', '2304', '1494', '1644', '2175', '1411', '153', '1051', '1936', '1206', '930', '225', '1370', '1477', '935', '2192', '1672', '110', '2123', '120', '119', '838', '2106', '1593', '125', '479', '2136', '2186', '55', '2254', '482', '2361', '2037', '1088', '1277', '894', '2295', '1636', '1348', '1037', '2355', '36', '1207', '1041', '623', '204', '1953', '1778', '522', '1196', '345', '489', '1483', '1453', '2200', '463', '457', '1821', '1065', '1632', '958', '403', '201', '511', '1107', '1489', '2216', '485', '2321', '719', '531', '590', '1189', '569', '336', '1005', '686', '1010', '789', '2377', '2092', '1416', '2124', '1528', '956', '1503', '1685', '1595', '142', '851', '1092', '2380', '1575', '1062', '713', '376', '2292', '520', '2065', '1349', '1928', '47', '507', '1892', '1305', '233', '1457', '431', '1734', '606', '1039', '1862', '34', '1863', '2026', '864', '343', '281', '1799', '1168', '1452', '1117', '1855', '1568', '151', '308', '683', '1569', '46', '1658', '1659', '1059', '263', '2354', '217', '461', '1437', '840', '1443', '400', '1215', '1112', '92', '2100', '1487', '622', '1694', '1574', '1898', '557', '1681', '1109', '2125', '1447', '1978', '896', '575', '2097', '430', '2257', '28', '1876', '849', '1120', '1028', '1385', '312', '1712', '1767', '670', '432', '1074', '134', '1001', '1792', '1225', '301', '1710', '695', '503', '1887', '2205', '1462', '190', '1006', '1902', '1963', '785', '2116', '1795', '366', '795', '1355', '342', '1408', '959', '1910', '1048', '27', '790', '645', '1759', '8', '2051', '1498', '1397', '692', '1097', '1566', '1986', '1686', '2284', '1504', '2140', '69', '1183', '2253', '2031', '512', '43', '1103', '543', '377', '1720', '95', '694', '510', '1481', '107', '1269', '1136', '712', '500', '2390', '752', '2271', '1777', '61', '164', '579', '763', '1197', '1022', '1173', '2267', '1763', '1287', '1184', '1295', '234', '1040', '2154', '1769', '2075', '1856', '1330', '1432', '1586', '1807', '2258', '861', '1670', '1630', '1257', '787', '2370', '646', '1339', '544', '1867', '1509', '1731', '1303', '1975', '1399', '89', '1730', '1191', '1577', '2334', '481', '889', '1054', '2221', '1673', '1012', '1488', '80', '2103', '1911', '1923', '1033', '2018', '1762', '1583', '1043', '1072', '1906', '903', '1675', '706', '322', '53', '597', '1781', '1282', '1357', '341', '1648', '2373', '2294', '582', '1680', '1392', '433', '1773', '1738', '738', '1623', '2348', '1776', '10', '31', '101', '1491', '2274', '1047', '1830', '324', '162', '1958', '48', '640', '1078', '2371', '620', '388', '580', '484', '1115', '1618', '1874', '1351', '891', '185', '1017', '1631', '1784', '988', '2220', '1600', '961', '2322', '124', '1708', '2028', '2209', '1064', '963', '2111', '524', '1824', '1522', '807', '453', '51', '504', '2157', '1163', '2212', '1179', '170', '1361', '1684', '997', '1181', '1050', '2121', '94', '545', '2372', '1985', '2224', '1612', '1616', '1238', '529', '574', '1540', '1755', '1651', '199', '617', '1790', '679', '1266', '538', '1619', '537', '1058', '1030', '2288', '1130', '1802', '474', '594', '893', '1067', '1129', '26', '2261', '340', '32', '497', '1455', '802', '1069', '704', '1625', '188', '1228', '593', '99', '1086', '1013', '1299', '2041', '1188', '2024', '1768', '939', '490', '541', '601', '1567', '1582', '315', '1205', '1836', '368', '2032', '863', '837', '443', '1814', '499', '600', '1884', '1826', '146', '1449', '767', '627', '2077', '129', '1151', '1106', '2291', '145', '451', '374', '1794', '268', '2381', '2047', '2244', '2329', '1837', '1471', '1363', '1815', '964', '1418', '1571', '1446', '459', '33', '1256', '1789', '2337', '123', '955', '733', '1956', '668', '464', '96', '2143', '1440', '1421', '1076', '865', '715', '2325', '449', '505', '2255', '1334', '1138', '1469', '1809', '1402', '1237', '1029', '1126', '2113', '2016', '434', '621', '666', '927', '568', '2211', '2208', '1444', '966', '554', '1756', '826', '406', '846', '2302', '1664', '2084', '603', '1899', '1169', '1387', '98', '1093', '1547', '848', '1839', '218', '804', '1520', '356', '1788', '1521', '1091', '962', '599', '2176', '1733', '448', '965', '291', '1929', '508', '862', '1602', '2259', '1604', '1198', '643', '1851', '1591', '1614', '1914', '2162', '902', '931', '2160', '2305', '1512', '1333', '1015', '1322', '1202', '890', '1111', '818', '1598', '1342', '570', '1007', '1294', '572', '595', '991', '1740', '806', '709', '1530', '1306', '298', '1638', '577', '734', '1587', '166', '470', '2356', '1916', '226', '1098', '1849', '1989', '2172', '1973', '1175', '1133', '1869', '2338', '928', '999', '1890', '2174', '1409', '1286', '319', '2057', '1835', '1472', '1646', '171', '907', '2266', '2025', '1352', '2071', '1601', '527', '2312', '1804', '469', '2003', '984', '1135', '2218', '1234', '1354', '2389', '1561', '447', '717', '375', '2098', '605', '1599', '1291', '1722', '458', '765', '718', '867', '753', '1223', '2384', '1032', '860', '983', '942', '1810', '2173', '705', '514', '2240', '1232', '272', '1573', '1108', '1947', '936', '596', '1707', '2236', '817', '316', '1542', '604', '295', '552', '2364', '1912', '1655', '1654', '1159', '954', '1195', '2083', '86', '1253', '2287', '1833', '2126', '167', '1650', '2135', '269', '1468', '84', '676', '2272', '1667', '2276', '1753', '1274', '473', '710', '2314', '1420', '1460', '1222', '642', '1523', '6', '1353', '920', '1224', '1639', '723', '2129', '909', '2178', '230', '1793', '480', '1746', '1204', '934', '2101', '320', '264', '898', '1395', '2147', '450', '1770', '1737', '265', '563', '792', '355', '139', '1677', '2333', '1336', '456', '1492', '913', '1716', '465', '816', '1486', '2290', '1203', '707', '2248', '1121', '419', '1609', '1831', '550', '2352', '1344', '845', '1930', '1233', '781', '373', '1882', '378', '925', '1752', '1362', '1915', '1725', '1774', '711', '1300', '2378', '1271', '1968', '1517', '1592', '1123', '827', '1343', '1988', '394', '1152', '911', '905', '57', '1235', '9', '1386', '518', '1900', '2093', '2045', '924', '1270', '990', '881', '677', '548', '2289', '488', '2198', '1118', '933', '2382', '1920', '1105', '2142', '1000', '2385', '1156', '1550', '2264', '1335', '1976', '1178', '1463', '1297', '1267', '2206', '998', '1283', '1704', '135', '1850', '1250', '2215', '847', '2359', '2336', '1116', '755', '102'], ['737', '736', '1534', '2152', '2269', '748', '1543', '2268', '747', '745', '750', '746', '1535', '2155', '1541', '740', '741', '739', '743', '2158', '1532', '749', '744', '742', '2270', '1536'], ['884', '2010', '870', '2004', '874', '883', '2169', '888', '886', '1578', '872', '2006', '871', '887', '908', '2171', '1588', '873', '869', '2170', '1579', '885'], ['382', '1425', '383', '380', '1875', '384', '1891', '1877', '1743', '1832', '1806', '1905', '1880', '402', '1939', '379'], ['1311', '11', '1318', '1922', '1308', '14', '12', '17', '1714', '1924', '13', '1309', '16', '15', '1921'], ['2167', '253', '248', '2163', '247', '250', '252', '1378', '1379', '1389', '1732', '1381', '2161', '249', '251'], ['326', '329', '331', '1414', '1406', '1407', '2066', '332', '330', '2076', '328', '1404', '327', '1735', '2070'], ['20', '23', '18', '1310', '1313', '1312', '2059', '2056', '21', '1319', '2062', '19', '24', '22'], ['1325', '64', '68', '1326', '1332', '2009', '67', '65', '2007', '2012', '66', '62', '63', '1324'], ['613', '2090', '609', '610', '1502', '2089', '611', '615', '1501', '2088', '1500', '612', '614', '1506'], ['771', '1937', '1545', '1933', '1931', '773', '774', '1544', '775', '769', '772', '1551', '1546', '770'], ['2034', '1084', '1642', '1083', '1082', '2038', '1652', '1085', '1080', '1645', '1643', '1081', '1079', '2035'], ['1262', '1705', '1698', '1259', '1263', '2164', '1264', '1697', '1261', '1260', '1265', '2165', '2168', '1696'], ['74', '2241', '70', '1329', '1328', '76', '2237', '73', '75', '2233', '72', '1338', '71'], ['177', '1360', '176', '1934', '1932', '198', '174', '1727', '175', '1828', '178', '1938', '1800'], ['1719', '1736', '241', '245', '244', '1376', '1718', '242', '243', '1375', '1388', '240', '246'], ['1383', '1384', '256', '2052', '1391', '257', '260', '259', '2050', '255', '254', '258', '2054'], ['1944', '1946', '399', '1434', '1945', '395', '1430', '396', '1429', '392', '393', '397', '398'], ['1841', '588', '2279', '1761', '584', '586', '2280', '2286', '585', '1493', '1811', '608', '587'], ['2193', '2195', '811', '808', '809', '813', '1563', '814', '810', '1557', '812', '2191', '1556'], ['833', '1565', '834', '2019', '835', '1572', '830', '1564', '832', '2013', '2015', '831', '836'], ['1242', '1693', '1699', '1241', '1245', '1691', '2067', '2074', '1243', '2064', '1247', '1244', '1246'], ['1519', '699', '2005', '724', '2011', '1813', '1765', '702', '703', '2008', '701', '700'], ['2079', '975', '1610', '1780', '2085', '995', '1819', '2081', '977', '972', '973', '976'], ['2332', '800', '2339', '2331', '797', '1771', '799', '1553', '796', '801', '822'], ['1662', '1786', '1147', '1148', '1878', '1873', '1166', '1872', '1149', '1146', '1145'], ['209', '1994', '207', '210', '206', '231', '1365', '208', '1995', '1997'], ['216', '211', '214', '2309', '1366', '2307', '239', '215', '212', '2308'], ['283', '303', '282', '280', '1907', '1908', '1909', '284', '1390', '279'], ['346', '347', '2245', '350', '372', '349', '1412', '351', '2247', '2249'], ['363', '2196', '362', '364', '2204', '365', '385', '1419', '2199', '361'], ['727', '2086', '2080', '1531', '729', '2082', '728', '726', '725', '751'], ['915', '918', '916', '917', '1969', '919', '1966', '1972', '941', '1590'], ['4', '2', '0', '1', '140', '3', '160', '25', '360'], ['156', '155', '157', '179', '1941', '159', '1943', '158', '1942'], ['2156', '2153', '184', '183', '180', '2159', '205', '182', '181'], ['278', '275', '276', '1998', '274', '2000', '277', '296', '1999'], ['285', '311', '1897', '286', '288', '287', '289', '1894', '1895'], ['407', '425', '1796', '411', '1785', '410', '408', '409', '1787'], ['2230', '2231', '412', '415', '413', '2229', '416', '414', '436'], ['1982', '422', '418', '1979', '420', '421', '1977', '417', '439'], ['2346', '632', '629', '2350', '630', '2345', '628', '652', '631'], ['634', '636', '2122', '2120', '638', '658', '637', '2118', '633'], ['2349', '653', '656', '2351', '655', '654', '2347', '673', '657'], ['659', '2226', '2228', '661', '663', '660', '2227', '685', '662'], ['762', '760', '1987', '758', '783', '759', '1983', '761', '1984'], ['967', '1852', '968', '970', '992', '969', '971', '1859', '1848'], ['1219', '1240', '1216', '1218', '1838', '1217', '1840', '1844', '1220']]\n"
     ]
    }
   ],
   "source": [
    "pe = get_process_executions(ocel_log)\n",
    "print(convert_process_executions_tolist(pe))"
   ]
  },
  {
   "cell_type": "code",
   "execution_count": 112,
   "metadata": {},
   "outputs": [],
   "source": [
    "pe_graph = ocel_log.graph.eog.subgraph(ocel_log.process_executions[3])"
   ]
  },
  {
   "cell_type": "code",
   "execution_count": null,
   "metadata": {},
   "outputs": [],
   "source": [
    "for edge in pe_graph.edges():\n",
    "    print(edge)\n",
    "    print(edge[1])"
   ]
  },
  {
   "cell_type": "code",
   "execution_count": 113,
   "metadata": {},
   "outputs": [
    {
     "data": {
      "image/png": "[encoded data removed]",
      "text/plain": [
       "<Figure size 432x288 with 1 Axes>"
      ]
     },
     "metadata": {},
     "output_type": "display_data"
    }
   ],
   "source": [
    "nx.draw(pe_graph, with_labels=True)"
   ]
  },
  {
   "cell_type": "code",
   "execution_count": 114,
   "metadata": {},
   "outputs": [
    {
     "data": {
      "text/plain": [
       "'DiGraph with 16 nodes and 17 edges'"
      ]
     },
     "execution_count": 114,
     "metadata": {},
     "output_type": "execute_result"
    }
   ],
   "source": [
    "nx.info(pe_graph)"
   ]
  },
  {
   "cell_type": "code",
   "execution_count": 16,
   "metadata": {},
   "outputs": [],
   "source": [
    "# Feature extraction\n",
    "activities = list(set(ocel_log.log.log[\"event_activity\"].tolist()))\n",
    "feature_set = [(predictive_monitoring.EVENT_REMAINING_TIME, ()),\n",
    "               (predictive_monitoring.EVENT_ELAPSED_TIME, ()),\n",
    "               (predictive_monitoring.EVENT_FLOW_TIME, ())]\n"
   ]
  },
  {
   "cell_type": "code",
   "execution_count": 77,
   "metadata": {},
   "outputs": [],
   "source": [
    "feature_set_ex = [(predictive_monitoring.EXECUTION_NUM_OF_EVENTS, ()), \n",
    "                  (predictive_monitoring.EXECUTION_NUM_OF_END_EVENTS, ()),\n",
    "                  (predictive_monitoring.EXECUTION_THROUGHPUT, ()), \n",
    "                  (predictive_monitoring.EXECUTION_NUM_OBJECT, ()),\n",
    "                  (predictive_monitoring.EXECUTION_NUM_OF_EVENTS, ()), \n",
    "                  (predictive_monitoring.EXECUTION_UNIQUE_ACTIVITIES, ()),\n",
    "                  (predictive_monitoring.EXECUTION_NUM_OF_STARTING_EVENTS, ()), \n",
    "                  (predictive_monitoring.EXECUTION_LAST_EVENT_TIME_BEFORE, ())]"
   ]
  },
  {
   "cell_type": "code",
   "execution_count": 78,
   "metadata": {},
   "outputs": [],
   "source": [
    "#feature_storage = extract_features(ocel_log, feature_set, [], \"\")[0]\n",
    "feature_storage = extract_features(ocel_log, feature_set, feature_set_ex, \"\")[0]"
   ]
  },
  {
   "cell_type": "code",
   "execution_count": 79,
   "metadata": {},
   "outputs": [],
   "source": [
    "# get first graph\n",
    "feature_graph = feature_storage.feature_graphs[0]"
   ]
  },
  {
   "cell_type": "code",
   "execution_count": 19,
   "metadata": {},
   "outputs": [
    {
     "name": "stdout",
     "output_type": "stream",
     "text": [
      "event_remaining_time\n",
      "event_elapsed_time\n",
      "event_flow_time\n"
     ]
    }
   ],
   "source": [
    "for key in feature_graph.nodes[0].attributes.keys():\n",
    "    print(key[0])"
   ]
  },
  {
   "cell_type": "code",
   "execution_count": null,
   "metadata": {},
   "outputs": [],
   "source": [
    "# print graph attributes\n",
    "feature_graph.attributes"
   ]
  },
  {
   "cell_type": "code",
   "execution_count": null,
   "metadata": {},
   "outputs": [],
   "source": [
    "# print nodes\n",
    "for node in feature_graph.nodes:\n",
    "    print(node.event_id)\n",
    "    print(node.attributes)\n",
    "    print(node.objects)"
   ]
  },
  {
   "cell_type": "code",
   "execution_count": null,
   "metadata": {},
   "outputs": [],
   "source": [
    "# print edges source/ target\n",
    "for edge in feature_graph.edges:\n",
    "    print(edge.source, edge.target)\n",
    "    print(edge.attributes)\n",
    "    print(edge.objects)"
   ]
  },
  {
   "cell_type": "code",
   "execution_count": 115,
   "metadata": {},
   "outputs": [],
   "source": [
    "# get nx graph\n",
    "feature_nx_graph = feature_graphs_to_nx_graphs([feature_graph])[0]"
   ]
  },
  {
   "cell_type": "code",
   "execution_count": 116,
   "metadata": {},
   "outputs": [
    {
     "data": {
      "image/png": "[encoded data removed]",
      "text/plain": [
       "<Figure size 432x288 with 1 Axes>"
      ]
     },
     "metadata": {},
     "output_type": "display_data"
    }
   ],
   "source": [
    "# draw graph\n",
    "nx.draw(feature_nx_graph, with_labels=True)"
   ]
  },
  {
   "cell_type": "code",
   "execution_count": 82,
   "metadata": {},
   "outputs": [],
   "source": [
    "from karateclub.graph_embedding import graph2vec\n",
    "\n",
    "def perform_graph2vec(graph_list, attributed):\n",
    "    model = graph2vec.Graph2Vec(attributed=attributed)\n",
    "    model.fit(graph_list)\n",
    "    X = model.get_embedding()\n",
    "\n",
    "    return X"
   ]
  },
  {
   "cell_type": "code",
   "execution_count": 83,
   "metadata": {},
   "outputs": [],
   "source": [
    "X = perform_graph2vec([feature_nx_graph], False)"
   ]
  },
  {
   "cell_type": "code",
   "execution_count": null,
   "metadata": {},
   "outputs": [],
   "source": [
    "X"
   ]
  },
  {
   "cell_type": "markdown",
   "metadata": {},
   "source": [
    "**Extension for all process executions**"
   ]
  },
  {
   "cell_type": "code",
   "execution_count": 117,
   "metadata": {},
   "outputs": [],
   "source": [
    "feature_graph_list = feature_storage.feature_graphs\n",
    "feature_nx_graph_list = feature_graphs_to_nx_graphs(feature_graph_list)"
   ]
  },
  {
   "cell_type": "code",
   "execution_count": 118,
   "metadata": {},
   "outputs": [
    {
     "name": "stdout",
     "output_type": "stream",
     "text": [
      "Graph with 41 nodes and 49 edges\n"
     ]
    }
   ],
   "source": [
    "print(feature_nx_graph_list[0])"
   ]
  },
  {
   "cell_type": "code",
   "execution_count": 89,
   "metadata": {},
   "outputs": [
    {
     "name": "stdout",
     "output_type": "stream",
     "text": [
      "[0, 1, 2, 3, 4, 5, 6, 7, 8, 9, 10, 11, 12, 13, 14, 15, 16, 17, 18, 19, 20, 21, 22, 23, 24, 25, 26, 27, 28, 29, 30, 31, 32, 33, 34, 35, 36, 37, 38, 39, 40]\n"
     ]
    }
   ],
   "source": [
    "print(feature_nx_graph_list[0].nodes)"
   ]
  },
  {
   "cell_type": "code",
   "execution_count": 90,
   "metadata": {},
   "outputs": [],
   "source": [
    "embedding =perform_graph2vec(feature_nx_graph_list, False)"
   ]
  },
  {
   "cell_type": "code",
   "execution_count": 91,
   "metadata": {},
   "outputs": [
    {
     "data": {
      "text/plain": [
       "array([[ 0.1190043 , -0.0391168 , -0.08758996, ...,  0.01425083,\n",
       "        -0.00798875,  0.02308978],\n",
       "       [ 0.13099304, -0.0442359 , -0.10922147, ...,  0.00759249,\n",
       "        -0.00623998,  0.01625188],\n",
       "       [ 0.12360165, -0.05069126, -0.10493165, ...,  0.00236955,\n",
       "        -0.01628441,  0.02408379],\n",
       "       ...,\n",
       "       [ 0.05693608, -0.03128374, -0.04691653, ...,  0.01309955,\n",
       "        -0.00601182, -0.00110666],\n",
       "       [ 0.06780784, -0.03028451, -0.04737418, ...,  0.01461518,\n",
       "        -0.00963726,  0.00376862],\n",
       "       [ 0.08476681, -0.04456697, -0.07589132, ...,  0.00698136,\n",
       "        -0.01274955,  0.01259329]], dtype=float32)"
      ]
     },
     "execution_count": 91,
     "metadata": {},
     "output_type": "execute_result"
    }
   ],
   "source": [
    "embedding"
   ]
  },
  {
   "cell_type": "code",
   "execution_count": 26,
   "metadata": {},
   "outputs": [
    {
     "name": "stdout",
     "output_type": "stream",
     "text": [
      "[[0.12319247 0.14356577 0.12179358 ... 0.0970394  0.05830279 0.09929608]\n",
      " [0.1263644  0.15577503 0.11646895 ... 0.09067282 0.06454054 0.09714668]\n",
      " [0.13791795 0.1409962  0.10369705 ... 0.08517721 0.03977696 0.1161221 ]\n",
      " ...\n",
      " [0.13692299 0.14764671 0.15588343 ... 0.07899855 0.01123955 0.08857007]\n",
      " [0.09543333 0.10361338 0.13392626 ... 0.1189734  0.06986946 0.11008981]\n",
      " [0.1246822  0.12609412 0.12051628 ... 0.10925705 0.07603291 0.10410952]]\n"
     ]
    }
   ],
   "source": [
    "# try normalize embedding\n",
    "from sklearn import preprocessing\n",
    "embedding_normalized = preprocessing.normalize(embedding)\n",
    "print(embedding_normalized)"
   ]
  },
  {
   "cell_type": "markdown",
   "metadata": {},
   "source": [
    "**Clustering**"
   ]
  },
  {
   "cell_type": "code",
   "execution_count": 92,
   "metadata": {},
   "outputs": [],
   "source": [
    "from sklearn.cluster import DBSCAN \n",
    "\n",
    "def perform_DBSCAN(X, eps, min_samples):\n",
    "    labels = DBSCAN(eps=eps, min_samples=min_samples).fit_predict(X)\n",
    "\n",
    "    return labels"
   ]
  },
  {
   "cell_type": "code",
   "execution_count": 93,
   "metadata": {},
   "outputs": [
    {
     "name": "stdout",
     "output_type": "stream",
     "text": [
      "[0 0 0 ... 0 0 0]\n"
     ]
    }
   ],
   "source": [
    "labels = perform_DBSCAN(embedding, 0.1, 10)\n",
    "print(labels)"
   ]
  },
  {
   "cell_type": "code",
   "execution_count": 94,
   "metadata": {},
   "outputs": [
    {
     "name": "stdout",
     "output_type": "stream",
     "text": [
      "[ 0  0  0  0  0  0  0  0  0  0  0  0  0  0  0  0  0  0  0  0  0  0  0  0\n",
      "  0  0  0  0  0  0  0  0  0  0  0  0 -1  0  0  0  0 -1  0  0  0 -1 -1  0]\n"
     ]
    }
   ],
   "source": [
    "labels_norm = perform_DBSCAN(embedding_normalized, 0.3, 5)\n",
    "print(labels_norm)"
   ]
  },
  {
   "cell_type": "code",
   "execution_count": 37,
   "metadata": {},
   "outputs": [],
   "source": [
    "from sklearn.cluster import MeanShift\n",
    "\n",
    "def perform_MeanShift(X):\n",
    "    clustering = MeanShift().fit(X)\n",
    "\n",
    "    return clustering.labels_"
   ]
  },
  {
   "cell_type": "code",
   "execution_count": 38,
   "metadata": {},
   "outputs": [
    {
     "data": {
      "text/plain": [
       "array([2, 1, 0, 1, 0, 0, 0, 0, 0, 0, 0, 0, 0, 0, 0, 0, 0, 0, 0, 0, 0, 0,\n",
       "       1, 0, 0, 1, 0, 0, 0, 0, 0, 0, 0, 0, 0, 0, 0, 0, 0, 0, 0, 0, 0, 0,\n",
       "       0, 0, 0, 0], dtype=int64)"
      ]
     },
     "execution_count": 38,
     "metadata": {},
     "output_type": "execute_result"
    }
   ],
   "source": [
    "perform_MeanShift(embedding)"
   ]
  },
  {
   "cell_type": "code",
   "execution_count": 39,
   "metadata": {},
   "outputs": [
    {
     "data": {
      "text/plain": [
       "array([0, 0, 0, 0, 0, 0, 0, 0, 0, 0, 0, 0, 0, 0, 0, 0, 0, 0, 0, 0, 0, 0,\n",
       "       0, 0, 0, 0, 0, 0, 0, 0, 0, 0, 0, 0, 0, 0, 1, 0, 0, 4, 0, 3, 6, 0,\n",
       "       0, 2, 5, 0], dtype=int64)"
      ]
     },
     "execution_count": 39,
     "metadata": {},
     "output_type": "execute_result"
    }
   ],
   "source": [
    "perform_MeanShift(embedding_normalized)"
   ]
  },
  {
   "cell_type": "markdown",
   "metadata": {},
   "source": [
    "**Try adding a feature**"
   ]
  },
  {
   "cell_type": "code",
   "execution_count": 40,
   "metadata": {},
   "outputs": [],
   "source": [
    "def feature_graphs_to_nx_graphs_single_feature(feature_graphs):\n",
    "    graph_list = []\n",
    "    for feature_graph in feature_graphs:\n",
    "        #G = nx.DiGraph()\n",
    "        G = nx.Graph()\n",
    "\n",
    "        node_dict = remap_nodes(feature_graph)\n",
    "\n",
    "        # replace node attribute dict keys (tuples) with only first part of tuple\n",
    "        for node in feature_graph.nodes:\n",
    "            # graph2vec needs str features\n",
    "            new_val = [str(val) for val in node.attributes.values()][0]\n",
    "            G.add_node(node_dict[node.event_id], feature=new_val)\n",
    "            #G.add_node(node.event_id, **node_attributes)\n",
    "\n",
    "        for edge in feature_graph.edges:\n",
    "            G.add_edge(node_dict[edge.source], node_dict[edge.target])\n",
    "            #G.add_edge(edge.source, edge.target)\n",
    "\n",
    "        graph_list.append(G)\n",
    "\n",
    "    return graph_list"
   ]
  },
  {
   "cell_type": "code",
   "execution_count": 41,
   "metadata": {},
   "outputs": [],
   "source": [
    "# Feature extraction\n",
    "feature_set_single = [(predictive_monitoring.EVENT_REMAINING_TIME, ())]\n",
    "feature_storage_single = extract_features(ocel_log, feature_set_single, [], \"\")[0]"
   ]
  },
  {
   "cell_type": "code",
   "execution_count": 42,
   "metadata": {},
   "outputs": [],
   "source": [
    "feature_graph_list_single = feature_storage_single.feature_graphs\n",
    "feature_nx_graph_list_single = feature_graphs_to_nx_graphs_single_feature(feature_graph_list_single)"
   ]
  },
  {
   "cell_type": "code",
   "execution_count": null,
   "metadata": {},
   "outputs": [],
   "source": [
    "nx.get_node_attributes(feature_nx_graph_list_single[0], 'feature')"
   ]
  },
  {
   "cell_type": "code",
   "execution_count": 44,
   "metadata": {},
   "outputs": [],
   "source": [
    "embedding_single = perform_graph2vec(feature_nx_graph_list_single, True)"
   ]
  },
  {
   "cell_type": "code",
   "execution_count": 53,
   "metadata": {},
   "outputs": [
    {
     "name": "stdout",
     "output_type": "stream",
     "text": [
      "[0 0 0 0 0 0 0 0 0 0 0 0 0 0 0 0 0 0 0 0 0 0 0 0 0 0 0 0 0 0 0 0 0 0 0 0 0\n",
      " 0 0 0 0 0 0 0 0 0 0 0]\n"
     ]
    }
   ],
   "source": [
    "labels_single = perform_DBSCAN(embedding_single, 0.1, 5)\n",
    "print(labels_single)"
   ]
  },
  {
   "cell_type": "code",
   "execution_count": 49,
   "metadata": {},
   "outputs": [
    {
     "data": {
      "text/plain": [
       "array([0, 0, 0, 0, 0, 0, 0, 0, 0, 0, 0, 0, 0, 0, 0, 0, 0, 0, 0, 0, 0, 0,\n",
       "       0, 0, 0, 0, 0, 0, 0, 0, 0, 0, 0, 0, 0, 0, 0, 0, 0, 0, 0, 0, 0, 0,\n",
       "       0, 0, 0, 0], dtype=int64)"
      ]
     },
     "execution_count": 49,
     "metadata": {},
     "output_type": "execute_result"
    }
   ],
   "source": [
    "perform_MeanShift(embedding_single)"
   ]
  },
  {
   "cell_type": "markdown",
   "metadata": {},
   "source": [
    "**Cluster Executions based on execution features**"
   ]
  },
  {
   "cell_type": "code",
   "execution_count": 119,
   "metadata": {},
   "outputs": [],
   "source": [
    "feature_set_ex = [\n",
    "                  (predictive_monitoring.EXECUTION_NUM_OF_EVENTS, ()), \n",
    "                  (predictive_monitoring.EXECUTION_NUM_OF_END_EVENTS, ()),\n",
    "                  (predictive_monitoring.EXECUTION_THROUGHPUT, ()), \n",
    "                  (predictive_monitoring.EXECUTION_NUM_OBJECT, ()),\n",
    "                  (predictive_monitoring.EXECUTION_UNIQUE_ACTIVITIES, ()),\n",
    "                  (predictive_monitoring.EXECUTION_NUM_OF_STARTING_EVENTS, ()), \n",
    "                  (predictive_monitoring.EXECUTION_LAST_EVENT_TIME_BEFORE, ())\n",
    "                  ]"
   ]
  },
  {
   "cell_type": "code",
   "execution_count": 120,
   "metadata": {},
   "outputs": [],
   "source": [
    "feature_storage = extract_features(ocel_log, [], feature_set_ex, \"\")[0]"
   ]
  },
  {
   "cell_type": "code",
   "execution_count": 121,
   "metadata": {},
   "outputs": [],
   "source": [
    "ex_features_list = []\n",
    "for i, graph in enumerate(feature_storage.feature_graphs):\n",
    "    features = (list(graph.attributes.values()))\n",
    "    features.insert(0, i)\n",
    "    ex_features_list.append(features)"
   ]
  },
  {
   "cell_type": "code",
   "execution_count": 122,
   "metadata": {},
   "outputs": [],
   "source": [
    "exec_feature_df = pd.DataFrame(ex_features_list, columns=['id', \"EXECUTION_NUM_OF_EVENTS\", \"EXECUTION_NUM_OF_END_EVENTS\", \"EXECUTION_THROUGHPUT\", \"EXECUTION_NUM_OBJECT\", \"EXECUTION_UNIQUE_ACTIVITIES\", \"EXECUTION_NUM_OF_STARTING_EVENTS\", \"EXECUTION_LAST_EVENT_TIME_BEFORE\"])"
   ]
  },
  {
   "cell_type": "code",
   "execution_count": 123,
   "metadata": {},
   "outputs": [],
   "source": [
    "execution_cluster_df = exec_feature_df.loc[:, exec_feature_df.columns != 'id']"
   ]
  },
  {
   "cell_type": "code",
   "execution_count": 124,
   "metadata": {},
   "outputs": [
    {
     "data": {
      "text/html": [
       "<div>\n",
       "<style scoped>\n",
       "    .dataframe tbody tr th:only-of-type {\n",
       "        vertical-align: middle;\n",
       "    }\n",
       "\n",
       "    .dataframe tbody tr th {\n",
       "        vertical-align: top;\n",
       "    }\n",
       "\n",
       "    .dataframe thead th {\n",
       "        text-align: right;\n",
       "    }\n",
       "</style>\n",
       "<table border=\"1\" class=\"dataframe\">\n",
       "  <thead>\n",
       "    <tr style=\"text-align: right;\">\n",
       "      <th></th>\n",
       "      <th>id</th>\n",
       "      <th>EXECUTION_NUM_OF_EVENTS</th>\n",
       "      <th>EXECUTION_NUM_OF_END_EVENTS</th>\n",
       "      <th>EXECUTION_THROUGHPUT</th>\n",
       "      <th>EXECUTION_NUM_OBJECT</th>\n",
       "      <th>EXECUTION_UNIQUE_ACTIVITIES</th>\n",
       "      <th>EXECUTION_NUM_OF_STARTING_EVENTS</th>\n",
       "      <th>EXECUTION_LAST_EVENT_TIME_BEFORE</th>\n",
       "    </tr>\n",
       "  </thead>\n",
       "  <tbody>\n",
       "    <tr>\n",
       "      <th>0</th>\n",
       "      <td>0</td>\n",
       "      <td>1830</td>\n",
       "      <td>300</td>\n",
       "      <td>5.080634e+06</td>\n",
       "      <td>600</td>\n",
       "      <td>11</td>\n",
       "      <td>152</td>\n",
       "      <td>17888.0</td>\n",
       "    </tr>\n",
       "    <tr>\n",
       "      <th>1</th>\n",
       "      <td>1</td>\n",
       "      <td>26</td>\n",
       "      <td>4</td>\n",
       "      <td>4.331743e+06</td>\n",
       "      <td>8</td>\n",
       "      <td>10</td>\n",
       "      <td>2</td>\n",
       "      <td>18218.0</td>\n",
       "    </tr>\n",
       "    <tr>\n",
       "      <th>2</th>\n",
       "      <td>2</td>\n",
       "      <td>22</td>\n",
       "      <td>4</td>\n",
       "      <td>3.288693e+06</td>\n",
       "      <td>8</td>\n",
       "      <td>10</td>\n",
       "      <td>2</td>\n",
       "      <td>17990.0</td>\n",
       "    </tr>\n",
       "    <tr>\n",
       "      <th>3</th>\n",
       "      <td>3</td>\n",
       "      <td>16</td>\n",
       "      <td>2</td>\n",
       "      <td>1.261103e+06</td>\n",
       "      <td>4</td>\n",
       "      <td>9</td>\n",
       "      <td>1</td>\n",
       "      <td>179607.0</td>\n",
       "    </tr>\n",
       "    <tr>\n",
       "      <th>4</th>\n",
       "      <td>4</td>\n",
       "      <td>15</td>\n",
       "      <td>2</td>\n",
       "      <td>1.235728e+06</td>\n",
       "      <td>4</td>\n",
       "      <td>11</td>\n",
       "      <td>1</td>\n",
       "      <td>18051.0</td>\n",
       "    </tr>\n",
       "  </tbody>\n",
       "</table>\n",
       "</div>"
      ],
      "text/plain": [
       "   id  EXECUTION_NUM_OF_EVENTS  EXECUTION_NUM_OF_END_EVENTS  \\\n",
       "0   0                     1830                          300   \n",
       "1   1                       26                            4   \n",
       "2   2                       22                            4   \n",
       "3   3                       16                            2   \n",
       "4   4                       15                            2   \n",
       "\n",
       "   EXECUTION_THROUGHPUT  EXECUTION_NUM_OBJECT  EXECUTION_UNIQUE_ACTIVITIES  \\\n",
       "0          5.080634e+06                   600                           11   \n",
       "1          4.331743e+06                     8                           10   \n",
       "2          3.288693e+06                     8                           10   \n",
       "3          1.261103e+06                     4                            9   \n",
       "4          1.235728e+06                     4                           11   \n",
       "\n",
       "   EXECUTION_NUM_OF_STARTING_EVENTS  EXECUTION_LAST_EVENT_TIME_BEFORE  \n",
       "0                               152                           17888.0  \n",
       "1                                 2                           18218.0  \n",
       "2                                 2                           17990.0  \n",
       "3                                 1                          179607.0  \n",
       "4                                 1                           18051.0  "
      ]
     },
     "execution_count": 124,
     "metadata": {},
     "output_type": "execute_result"
    }
   ],
   "source": [
    "exec_feature_df.head(5)"
   ]
  },
  {
   "cell_type": "code",
   "execution_count": 60,
   "metadata": {},
   "outputs": [],
   "source": [
    "# normalization\n",
    "normalized_df=(execution_cluster_df-execution_cluster_df.mean())/execution_cluster_df.std()"
   ]
  },
  {
   "cell_type": "code",
   "execution_count": null,
   "metadata": {},
   "outputs": [],
   "source": [
    "normalized_df.head()"
   ]
  },
  {
   "cell_type": "code",
   "execution_count": 103,
   "metadata": {},
   "outputs": [
    {
     "name": "stdout",
     "output_type": "stream",
     "text": [
      "[-1 -1 -1 ... -1 -1 -1]\n"
     ]
    }
   ],
   "source": [
    "execution_labels = perform_DBSCAN(execution_cluster_df, 0.5, 2)\n",
    "print(execution_labels)"
   ]
  },
  {
   "cell_type": "code",
   "execution_count": 127,
   "metadata": {},
   "outputs": [
    {
     "name": "stdout",
     "output_type": "stream",
     "text": [
      "[1 1 1 0 0 1 0 0 0 0 0 0 1 1 0 0 0 0 1 1 0 0 0 0 1 0 0 1 0 1 1 0 0 0 0 1 0\n",
      " 0 0 1 0 1 0 1 1 0 0 0]\n"
     ]
    }
   ],
   "source": [
    "execution_labels_meanshift = perform_MeanShift(execution_cluster_df)\n",
    "print(execution_labels_meanshift)"
   ]
  },
  {
   "cell_type": "markdown",
   "metadata": {},
   "source": [
    "**Partition OCEL based on Clusters**"
   ]
  },
  {
   "cell_type": "code",
   "execution_count": 125,
   "metadata": {},
   "outputs": [],
   "source": [
    "from ocpa.objects.log.util import misc as log_util\n",
    "\n",
    "def partition_ocel(ocel, clustered_df):\n",
    "    sub_ocels = [] \n",
    "\n",
    "    for cluster in clustered_df['cluster'].unique():\n",
    "        # partition df into df of cluster \n",
    "        cluster_df = clustered_df[clustered_df['cluster'] == cluster]\n",
    "        # get id of process execution\n",
    "        cluster_process_ex = list(cluster_df.index.values)\n",
    "        # get corresponding event ids -> use process_execution_mappings function, that stores process execution ids of an event\n",
    "        event_ids = [key for (key,val) in ocel.process_execution_mappings.items() if val in cluster_process_ex]\n",
    "        # copy part of log containing only event ids of cluster\n",
    "        new_event_df = ocel.log.log.loc[ocel.log.log[\"event_id\"].isin(event_ids)].copy()\n",
    "        # synthetically add ocel parameters (muss noch angepasst werden, ist ja gerade hardgecoded auf die column names)\n",
    "        ocel.parameters = {\"obj_names\": ocel.object_types, \"val_names\":[], \"act_name\": \"event_activity\", \"time_name\":\"event_timestamp\"}\n",
    "        # copy log \n",
    "        new_log = log_util.copy_log_from_df(new_event_df, ocel.parameters)\n",
    "        sub_ocels.append(new_log)\n",
    "    \n",
    "    return sub_ocels"
   ]
  },
  {
   "cell_type": "code",
   "execution_count": 128,
   "metadata": {},
   "outputs": [],
   "source": [
    "# add cluster label\n",
    "exec_feature_df['cluster'] = execution_labels_meanshift"
   ]
  },
  {
   "cell_type": "code",
   "execution_count": 129,
   "metadata": {},
   "outputs": [],
   "source": [
    "sub_ocels = partition_ocel(ocel_log, exec_feature_df)"
   ]
  },
  {
   "cell_type": "code",
   "execution_count": 130,
   "metadata": {},
   "outputs": [],
   "source": [
    "from ocpa.algo.discovery.ocpn import algorithm as ocpn_discovery_factory\n",
    "from ocpa.visualization.oc_petri_net import factory as ocpn_vis_factory"
   ]
  },
  {
   "cell_type": "code",
   "execution_count": null,
   "metadata": {},
   "outputs": [
    {
     "name": "stderr",
     "output_type": "stream",
     "text": [
      "C:\\Users\\linab\\AppData\\Local\\Packages\\PythonSoftwareFoundation.Python.3.9_qbz5n2kfra8p0\\LocalCache\\local-packages\\Python39\\site-packages\\pandas\\core\\frame.py:1549: FutureWarning: Using short name for 'orient' is deprecated. Only the options: ('dict', list, 'series', 'split', 'records', 'index') will be used in a future version. Use one of the above to silence this warning.\n",
      "  warnings.warn(\n"
     ]
    },
    {
     "name": "stdout",
     "output_type": "stream",
     "text": [
      "     event_id             time:timestamp      concept:name  \\\n",
      "0           5 2022-10-20 17:06:18.864004       Place Order   \n",
      "3           6 2022-10-20 17:06:19.864004     Confirm Order   \n",
      "8           9 2022-10-20 17:11:47.864004         Pay Order   \n",
      "10         26 2022-10-20 17:35:00.864004       Place Order   \n",
      "13         27 2022-10-20 17:35:01.864004     Confirm Order   \n",
      "...       ...                        ...               ...   \n",
      "2724     1890 2022-10-31 08:46:18.870968  Payment Reminder   \n",
      "2728     1893 2022-10-31 14:24:31.870968         Pay Order   \n",
      "2729     1896 2022-10-31 21:08:02.870968  Payment Reminder   \n",
      "2744     1904 2022-11-02 10:39:59.870968         Pay Order   \n",
      "2745     1906 2022-11-02 23:09:16.870968         Pay Order   \n",
      "\n",
      "          event_start_timestamp case:concept:name  \n",
      "0    2022-10-20 17:06:18.864004            order2  \n",
      "3    2022-10-20 17:06:19.864004            order2  \n",
      "8    2022-10-20 17:11:47.864004            order2  \n",
      "10   2022-10-20 17:35:00.864004            order5  \n",
      "13   2022-10-20 17:35:01.864004            order5  \n",
      "...                         ...               ...  \n",
      "2724 2022-10-31 08:46:18.870968           order36  \n",
      "2728 2022-10-31 14:24:31.870968           order67  \n",
      "2729 2022-10-31 21:08:02.870968          order108  \n",
      "2744 2022-11-02 10:39:59.870968           order36  \n",
      "2745 2022-11-02 23:09:16.870968          order108  \n",
      "\n",
      "[670 rows x 5 columns]\n",
      "     event_id             time:timestamp       concept:name  \\\n",
      "1           5 2022-10-20 17:06:18.864004        Place Order   \n",
      "2           5 2022-10-20 17:06:18.864004        Place Order   \n",
      "4           6 2022-10-20 17:06:19.864004      Confirm Order   \n",
      "5           6 2022-10-20 17:06:19.864004      Confirm Order   \n",
      "6           7 2022-10-20 17:11:46.864004  Item out of stock   \n",
      "...       ...                        ...                ...   \n",
      "3703     2387 2022-12-18 04:01:04.871959          End Route   \n",
      "3706     2389 2022-12-18 07:25:24.871959        Start Route   \n",
      "3707     2389 2022-12-18 07:25:24.871959        Start Route   \n",
      "3709     2390 2022-12-18 12:23:32.871959          End Route   \n",
      "3710     2390 2022-12-18 12:23:32.871959          End Route   \n",
      "\n",
      "          event_start_timestamp case:concept:name  \n",
      "1    2022-10-20 17:06:18.864004             item5  \n",
      "2    2022-10-20 17:06:18.864004             item4  \n",
      "4    2022-10-20 17:06:19.864004             item5  \n",
      "5    2022-10-20 17:06:19.864004             item4  \n",
      "6    2022-10-20 17:11:46.864004             item5  \n",
      "...                         ...               ...  \n",
      "3703 2022-12-18 04:01:04.871959           item199  \n",
      "3706 2022-12-18 07:25:24.871959           item259  \n",
      "3707 2022-12-18 07:25:24.871959           item265  \n",
      "3709 2022-12-18 12:23:32.871959           item259  \n",
      "3710 2022-12-18 12:23:32.871959           item265  \n",
      "\n",
      "[2370 rows x 5 columns]\n",
      "     event_id             time:timestamp concept:name  \\\n",
      "51         49 2022-10-20 18:10:45.864004   Load Cargo   \n",
      "64         56 2022-10-20 18:20:12.864004   Load Cargo   \n",
      "76         69 2022-10-20 18:40:39.864004   Load Cargo   \n",
      "96         79 2022-10-20 18:59:34.864004   Load Cargo   \n",
      "133       102 2022-10-20 19:29:55.864004   Load Cargo   \n",
      "...       ...                        ...          ...   \n",
      "3701     2386 2022-12-17 23:00:15.871959  Start Route   \n",
      "3704     2387 2022-12-18 04:01:04.871959    End Route   \n",
      "3705     2388 2022-12-18 06:59:45.871959     Fuel Car   \n",
      "3708     2389 2022-12-18 07:25:24.871959  Start Route   \n",
      "3711     2390 2022-12-18 12:23:32.871959    End Route   \n",
      "\n",
      "          event_start_timestamp case:concept:name  \n",
      "51   2022-10-20 18:10:45.864004         delivery1  \n",
      "64   2022-10-20 18:20:12.864004         delivery7  \n",
      "76   2022-10-20 18:40:39.864004         delivery5  \n",
      "96   2022-10-20 18:59:34.864004         delivery6  \n",
      "133  2022-10-20 19:29:55.864004        delivery16  \n",
      "...                         ...               ...  \n",
      "3701 2022-12-17 23:00:15.871959        delivery64  \n",
      "3704 2022-12-18 04:01:04.871959        delivery64  \n",
      "3705 2022-12-18 06:59:45.871959       delivery193  \n",
      "3708 2022-12-18 07:25:24.871959       delivery193  \n",
      "3711 2022-12-18 12:23:32.871959       delivery193  \n",
      "\n",
      "[672 rows x 5 columns]\n"
     ]
    },
    {
     "name": "stderr",
     "output_type": "stream",
     "text": [
      "C:\\Users\\linab\\AppData\\Local\\Packages\\PythonSoftwareFoundation.Python.3.9_qbz5n2kfra8p0\\LocalCache\\local-packages\\Python39\\site-packages\\pandas\\core\\frame.py:1549: FutureWarning: Using short name for 'orient' is deprecated. Only the options: ('dict', list, 'series', 'split', 'records', 'index') will be used in a future version. Use one of the above to silence this warning.\n",
      "  warnings.warn(\n"
     ]
    },
    {
     "name": "stdout",
     "output_type": "stream",
     "text": [
      "    event_id             time:timestamp      concept:name  \\\n",
      "0          0 2022-10-20 16:56:19.864004       Place Order   \n",
      "3          1 2022-10-20 16:56:20.864004     Confirm Order   \n",
      "8          4 2022-10-20 17:01:51.864004         Pay Order   \n",
      "9         11 2022-10-20 17:16:12.864004       Place Order   \n",
      "12        12 2022-10-20 17:16:13.864004     Confirm Order   \n",
      "..       ...                        ...               ...   \n",
      "468     1828 2022-10-29 05:30:52.869990         Pay Order   \n",
      "469     1832 2022-10-29 10:23:46.870968  Payment Reminder   \n",
      "498     1891 2022-10-31 12:45:03.870968  Payment Reminder   \n",
      "506     1905 2022-11-02 14:51:06.870968  Payment Reminder   \n",
      "535     1939 2022-11-04 16:44:33.870968         Pay Order   \n",
      "\n",
      "         event_start_timestamp case:concept:name  \n",
      "0   2022-10-20 16:56:19.864004            order1  \n",
      "3   2022-10-20 16:56:20.864004            order1  \n",
      "8   2022-10-20 17:01:51.864004            order1  \n",
      "9   2022-10-20 17:16:12.864004            order3  \n",
      "12  2022-10-20 17:16:13.864004            order3  \n",
      "..                         ...               ...  \n",
      "468 2022-10-29 05:30:52.869990           order27  \n",
      "469 2022-10-29 10:23:46.870968           order58  \n",
      "498 2022-10-31 12:45:03.870968           order58  \n",
      "506 2022-11-02 14:51:06.870968           order58  \n",
      "535 2022-11-04 16:44:33.870968           order58  \n",
      "\n",
      "[125 rows x 5 columns]\n",
      "    event_id             time:timestamp   concept:name  \\\n",
      "1          0 2022-10-20 16:56:19.864004    Place Order   \n",
      "2          0 2022-10-20 16:56:19.864004    Place Order   \n",
      "4          1 2022-10-20 16:56:20.864004  Confirm Order   \n",
      "5          1 2022-10-20 16:56:20.864004  Confirm Order   \n",
      "6          2 2022-10-20 17:01:51.864004      Pick Item   \n",
      "..       ...                        ...            ...   \n",
      "660     2090 2022-11-19 07:05:30.870968      End Route   \n",
      "663     2120 2022-11-22 21:05:18.870968    Start Route   \n",
      "664     2120 2022-11-22 21:05:18.870968    Start Route   \n",
      "666     2122 2022-11-23 02:03:53.870968      End Route   \n",
      "667     2122 2022-11-23 02:03:53.870968      End Route   \n",
      "\n",
      "         event_start_timestamp case:concept:name  \n",
      "1   2022-10-20 16:56:19.864004             item2  \n",
      "2   2022-10-20 16:56:19.864004             item3  \n",
      "4   2022-10-20 16:56:20.864004             item2  \n",
      "5   2022-10-20 16:56:20.864004             item3  \n",
      "6   2022-10-20 17:01:51.864004             item3  \n",
      "..                         ...               ...  \n",
      "660 2022-11-19 07:05:30.870968           item187  \n",
      "663 2022-11-22 21:05:18.870968           item194  \n",
      "664 2022-11-22 21:05:18.870968           item195  \n",
      "666 2022-11-23 02:03:53.870968           item194  \n",
      "667 2022-11-23 02:03:53.870968           item195  \n",
      "\n",
      "[420 rows x 5 columns]\n",
      "    event_id             time:timestamp concept:name  \\\n",
      "33        25 2022-10-20 17:32:13.864004   Load Cargo   \n",
      "45       140 2022-10-20 20:25:02.864992     Fuel Car   \n",
      "57       160 2022-10-20 20:50:15.864992  Start Route   \n",
      "69       179 2022-10-20 21:20:00.864992   Load Cargo   \n",
      "72       198 2022-10-20 21:49:17.864992   Load Cargo   \n",
      "..       ...                        ...          ...   \n",
      "658     2089 2022-11-19 02:05:33.870968  Start Route   \n",
      "661     2090 2022-11-19 07:05:30.870968    End Route   \n",
      "662     2118 2022-11-22 20:40:30.870968     Fuel Car   \n",
      "665     2120 2022-11-22 21:05:18.870968  Start Route   \n",
      "668     2122 2022-11-23 02:03:53.870968    End Route   \n",
      "\n",
      "         event_start_timestamp case:concept:name  \n",
      "33  2022-10-20 17:32:13.864004         delivery3  \n",
      "45  2022-10-20 20:25:02.864992         delivery3  \n",
      "57  2022-10-20 20:50:15.864992         delivery3  \n",
      "69  2022-10-20 21:20:00.864992         delivery8  \n",
      "72  2022-10-20 21:49:17.864992        delivery21  \n",
      "..                         ...               ...  \n",
      "658 2022-11-19 02:05:33.870968        delivery91  \n",
      "661 2022-11-19 07:05:30.870968        delivery91  \n",
      "662 2022-11-22 20:40:30.870968        delivery61  \n",
      "665 2022-11-22 21:05:18.870968        delivery61  \n",
      "668 2022-11-23 02:03:53.870968        delivery61  \n",
      "\n",
      "[124 rows x 5 columns]\n"
     ]
    }
   ],
   "source": [
    "for i, sub_ocel in enumerate(sub_ocels):\n",
    "    ocpn = ocpn_discovery_factory.apply(sub_ocel, parameters={\"debug\": False})\n",
    "    img_name = \"BPIFINAL_test_cluster_meanshift_order_\" + str(i)\n",
    "    ocpn_vis_factory.save(ocpn_vis_factory.apply(ocpn), \"clustering_test/\" + img_name +\".png\")"
   ]
  }
 ],
 "metadata": {
  "kernelspec": {
   "display_name": "Python 3.9.13 64-bit (microsoft store)",
   "language": "python",
   "name": "python3"
  },
  "language_info": {
   "codemirror_mode": {
    "name": "ipython",
    "version": 3
   },
   "file_extension": ".py",
   "mimetype": "text/x-python",
   "name": "python",
   "nbconvert_exporter": "python",
   "pygments_lexer": "ipython3",
   "version": "3.9.13"
  },
  "orig_nbformat": 4,
  "vscode": {
   "interpreter": {
    "hash": "9a29511bac30a5bcbb21734c52739113f9302bbd6d821c3fca340c0f0260e187"
   }
  }
 },
 "nbformat": 4,
 "nbformat_minor": 2
}
