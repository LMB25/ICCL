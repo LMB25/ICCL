{
 "cells": [
  {
   "cell_type": "code",
   "execution_count": 132,
   "metadata": {},
   "outputs": [],
   "source": [
    "from ocpa.algo.predictive_monitoring import factory as predictive_monitoring\n",
    "from ocpa.algo.predictive_monitoring import tabular, sequential\n",
    "import networkx as nx\n",
    "import pandas as pd\n",
    "from karateclub.graph_embedding import graph2vec\n",
    "from karateclub import DeepWalk, Walklets\n",
    "import node2vec \n",
    "from collections import Counter"
   ]
  },
  {
   "cell_type": "code",
   "execution_count": 133,
   "metadata": {},
   "outputs": [],
   "source": [
    "from ocpa.objects.log.importer.ocel import factory as ocel_import_factory\n",
    "\n",
    "def load_ocel(path):\n",
    "    if path.endswith(\"jsonocel\"):\n",
    "        ocel_file = ocel_import_factory.apply(path)\n",
    "    elif path.endswith(\"xmlocel\"):\n",
    "        ocel_file = ocel_import_factory.apply(path)\n",
    "    else:\n",
    "        error_msg = \"not a valid extension\"\n",
    "        return error_msg\n",
    "    return ocel_file"
   ]
  },
  {
   "cell_type": "code",
   "execution_count": 134,
   "metadata": {},
   "outputs": [],
   "source": [
    "def get_process_executions(ocel):\n",
    "    # default: connected components\n",
    "    return ocel.process_executions\n",
    "\n",
    "def get_events_process_exection(ocel, id):\n",
    "    return ocel.process_executions[id]\n",
    "\n",
    "def get_objects_process_execution(ocel, id):\n",
    "    return ocel.process_execution_objects[id]\n",
    "\n",
    "def get_process_execution_graph(ocel, id):\n",
    "    return ocel.get_process_execution_graph(id)\n",
    "\n",
    "def get_variant_process_executions(ocel):\n",
    "    return ocel.variants_dict()"
   ]
  },
  {
   "cell_type": "code",
   "execution_count": 135,
   "metadata": {},
   "outputs": [],
   "source": [
    "def remap_nodes(graph):\n",
    "    node_mapping = dict((node.event_id, i) for i, node in enumerate(graph.nodes))\n",
    "    return node_mapping\n",
    "\n",
    "def feature_graphs_to_nx_graphs(feature_graphs):\n",
    "    graph_list = []\n",
    "    for feature_graph in feature_graphs:\n",
    "        #G = nx.DiGraph()\n",
    "        G = nx.Graph()\n",
    "\n",
    "        node_dict = remap_nodes(feature_graph)\n",
    "\n",
    "        # replace node attribute dict keys (tuples) with only first part of tuple\n",
    "        for node in feature_graph.nodes:\n",
    "            new_keys = [key[0] for key in node.attributes.keys()]\n",
    "            # graph2vec needs str features\n",
    "            new_vals = [str(val) for val in node.attributes.values()]\n",
    "            #node_attributes = dict(zip(new_keys, node.attributes.values()))\n",
    "            node_attributes = dict(zip(new_keys, new_vals))\n",
    "            G.add_node(node_dict[node.event_id], **node_attributes)\n",
    "            #G.add_node(node.event_id, **node_attributes)\n",
    "\n",
    "        for edge in feature_graph.edges:\n",
    "            G.add_edge(node_dict[edge.source], node_dict[edge.target])\n",
    "            #G.add_edge(edge.source, edge.target)\n",
    "\n",
    "        graph_list.append(G)\n",
    "\n",
    "    return graph_list"
   ]
  },
  {
   "cell_type": "code",
   "execution_count": 136,
   "metadata": {},
   "outputs": [],
   "source": [
    "def extract_features(ocel_log, feature_set_event, feature_set_obj, repr):\n",
    "    extraction = []\n",
    "    feature_storage = predictive_monitoring.apply(ocel_log, feature_set_event, feature_set_obj)\n",
    "    extraction.append(feature_storage)\n",
    "    if repr == 'table':\n",
    "        table = tabular.construct_table(feature_storage)\n",
    "        extraction.append(table)\n",
    "    elif repr == 'sequential':\n",
    "        sequences = sequential.construct_sequence(feature_storage)\n",
    "        extraction.append(sequences)\n",
    "    return extraction"
   ]
  },
  {
   "cell_type": "code",
   "execution_count": 137,
   "metadata": {},
   "outputs": [],
   "source": [
    "def construct_object_df(ocel_log):\n",
    "    object_types = ocel_log.object_types\n",
    "    df = pd.DataFrame(columns=[type for type in object_types])\n",
    "    proc_ex = get_process_executions(ocel_log)\n",
    "    num_pr_ex = len(proc_ex)\n",
    "    for i in range(0, num_pr_ex):\n",
    "        execution = proc_ex[i]\n",
    "        obj = get_objects_process_execution(ocel_log, i)\n",
    "        obj_count = Counter(elem[0] for elem in obj)\n",
    "        obj_dict = pd.DataFrame([obj_count])\n",
    "        df = pd.concat([df, obj_dict], ignore_index=True)\n",
    "    return df"
   ]
  },
  {
   "cell_type": "markdown",
   "metadata": {},
   "source": [
    "**Test Feature Extraction**"
   ]
  },
  {
   "cell_type": "code",
   "execution_count": 138,
   "metadata": {},
   "outputs": [],
   "source": [
    "path = \"C:\\\\Users\\\\linab\\\\Documents\\\\RWTH Aachen\\\\Studium\\\\Semester 3\\\\Process Discovery\\\\Samples\\\\p2p-normal.jsonocel\"\n",
    "ocel_log = load_ocel(path)"
   ]
  },
  {
   "cell_type": "code",
   "execution_count": 139,
   "metadata": {},
   "outputs": [],
   "source": [
    "# Feature extraction\n",
    "activities = list(set(ocel_log.log.log[\"event_activity\"].tolist()))\n",
    "feature_set = [(predictive_monitoring.EVENT_REMAINING_TIME, ()),\n",
    "               (predictive_monitoring.EVENT_ELAPSED_TIME, ()),\n",
    "               (predictive_monitoring.EVENT_FLOW_TIME, ())]\n"
   ]
  },
  {
   "cell_type": "code",
   "execution_count": 140,
   "metadata": {},
   "outputs": [],
   "source": [
    "feature_storage = extract_features(ocel_log, feature_set, [], \"\")[0]"
   ]
  },
  {
   "cell_type": "code",
   "execution_count": 141,
   "metadata": {},
   "outputs": [],
   "source": [
    "# get first graph\n",
    "feature_graph = feature_storage.feature_graphs[0]"
   ]
  },
  {
   "cell_type": "code",
   "execution_count": 142,
   "metadata": {},
   "outputs": [
    {
     "name": "stdout",
     "output_type": "stream",
     "text": [
      "event_remaining_time\n",
      "event_elapsed_time\n",
      "event_flow_time\n"
     ]
    }
   ],
   "source": [
    "for key in feature_graph.nodes[0].attributes.keys():\n",
    "    print(key[0])"
   ]
  },
  {
   "cell_type": "code",
   "execution_count": 143,
   "metadata": {},
   "outputs": [
    {
     "name": "stdout",
     "output_type": "stream",
     "text": [
      "4\n",
      "{('event_remaining_time', ()): 86400.0, ('event_elapsed_time', ()): 864000.0, ('event_flow_time', ()): 259200.0}\n",
      "[('MATERIAL', 'MATERIAL3'), ('MATERIAL', 'MATERIAL5'), ('MATERIAL', 'MATERIAL2'), ('MATERIAL', 'MATERIAL1'), ('MATERIAL', 'MATERIAL4'), ('MATERIAL', 'MATERIAL0')]\n",
      "5\n",
      "{('event_remaining_time', ()): 86400.0, ('event_elapsed_time', ()): 864000.0, ('event_flow_time', ()): 0.0}\n",
      "[('MATERIAL', 'MATERIAL3'), ('MATERIAL', 'MATERIAL5'), ('MATERIAL', 'MATERIAL2'), ('MATERIAL', 'MATERIAL1'), ('MATERIAL', 'MATERIAL4'), ('MATERIAL', 'MATERIAL0')]\n",
      "0\n",
      "{('event_remaining_time', ()): 950400.0, ('event_elapsed_time', ()): 0.0, ('event_flow_time', ()): 0.0}\n",
      "[('PURCHREQ', 'PURCHREQ0'), ('MATERIAL', 'MATERIAL3'), ('MATERIAL', 'MATERIAL5'), ('MATERIAL', 'MATERIAL2'), ('MATERIAL', 'MATERIAL1'), ('MATERIAL', 'MATERIAL4'), ('MATERIAL', 'MATERIAL0')]\n",
      "2\n",
      "{('event_remaining_time', ()): 604800.0, ('event_elapsed_time', ()): 345600.0, ('event_flow_time', ()): 86400.0}\n",
      "[('PURCHORD', 'PURCHORD0'), ('MATERIAL', 'MATERIAL3'), ('MATERIAL', 'MATERIAL5'), ('MATERIAL', 'MATERIAL2'), ('MATERIAL', 'MATERIAL1'), ('MATERIAL', 'MATERIAL4'), ('MATERIAL', 'MATERIAL0'), ('GDSRCPT', 'GDSRCPT0')]\n",
      "1\n",
      "{('event_remaining_time', ()): 691200.0, ('event_elapsed_time', ()): 259200.0, ('event_flow_time', ()): 259200.0}\n",
      "[('PURCHORD', 'PURCHORD0'), ('PURCHREQ', 'PURCHREQ0'), ('MATERIAL', 'MATERIAL3'), ('MATERIAL', 'MATERIAL5'), ('MATERIAL', 'MATERIAL2'), ('MATERIAL', 'MATERIAL1'), ('MATERIAL', 'MATERIAL4'), ('MATERIAL', 'MATERIAL0')]\n",
      "7\n",
      "{('event_remaining_time', ()): 0.0, ('event_elapsed_time', ()): 950400.0, ('event_flow_time', ()): 86400.0}\n",
      "[('MATERIAL', 'MATERIAL3'), ('MATERIAL', 'MATERIAL5'), ('MATERIAL', 'MATERIAL2'), ('MATERIAL', 'MATERIAL1'), ('MATERIAL', 'MATERIAL4'), ('MATERIAL', 'MATERIAL0')]\n",
      "6\n",
      "{('event_remaining_time', ()): 86400.0, ('event_elapsed_time', ()): 864000.0, ('event_flow_time', ()): 259200.0}\n",
      "[('PURCHORD', 'PURCHORD0'), ('INVOICE', 'INVOICE1'), ('INVOICE', 'INVOICE0')]\n",
      "8\n",
      "{('event_remaining_time', ()): 0.0, ('event_elapsed_time', ()): 950400.0, ('event_flow_time', ()): 345600.0}\n",
      "[('PURCHORD', 'PURCHORD0'), ('INVOICE', 'INVOICE1'), ('INVOICE', 'INVOICE0'), ('GDSRCPT', 'GDSRCPT0')]\n",
      "3\n",
      "{('event_remaining_time', ()): 345600.0, ('event_elapsed_time', ()): 604800.0, ('event_flow_time', ()): 259200.0}\n",
      "[('PURCHORD', 'PURCHORD0'), ('MATERIAL', 'MATERIAL3'), ('MATERIAL', 'MATERIAL5'), ('MATERIAL', 'MATERIAL2'), ('MATERIAL', 'MATERIAL1'), ('MATERIAL', 'MATERIAL4'), ('MATERIAL', 'MATERIAL0'), ('GDSRCPT', 'GDSRCPT0')]\n"
     ]
    }
   ],
   "source": [
    "# print nodes\n",
    "for node in feature_graph.nodes:\n",
    "    print(node.event_id)\n",
    "    print(node.attributes)\n",
    "    print(node.objects)"
   ]
  },
  {
   "cell_type": "code",
   "execution_count": 144,
   "metadata": {},
   "outputs": [
    {
     "name": "stdout",
     "output_type": "stream",
     "text": [
      "4 5\n",
      "{}\n",
      "{('MATERIAL', 'MATERIAL1'), ('MATERIAL', 'MATERIAL2'), ('MATERIAL', 'MATERIAL4'), ('MATERIAL', 'MATERIAL5'), ('MATERIAL', 'MATERIAL0'), ('MATERIAL', 'MATERIAL3')}\n",
      "5 7\n",
      "{}\n",
      "{('MATERIAL', 'MATERIAL1'), ('MATERIAL', 'MATERIAL2'), ('MATERIAL', 'MATERIAL4'), ('MATERIAL', 'MATERIAL5'), ('MATERIAL', 'MATERIAL0'), ('MATERIAL', 'MATERIAL3')}\n",
      "0 1\n",
      "{}\n",
      "{('PURCHREQ', 'PURCHREQ0'), ('MATERIAL', 'MATERIAL1'), ('MATERIAL', 'MATERIAL2'), ('MATERIAL', 'MATERIAL4'), ('MATERIAL', 'MATERIAL5'), ('MATERIAL', 'MATERIAL0'), ('MATERIAL', 'MATERIAL3')}\n",
      "2 3\n",
      "{}\n",
      "{('GDSRCPT', 'GDSRCPT0'), ('MATERIAL', 'MATERIAL1'), ('MATERIAL', 'MATERIAL2'), ('PURCHORD', 'PURCHORD0'), ('MATERIAL', 'MATERIAL4'), ('MATERIAL', 'MATERIAL5'), ('MATERIAL', 'MATERIAL0'), ('MATERIAL', 'MATERIAL3')}\n",
      "1 2\n",
      "{}\n",
      "{('MATERIAL', 'MATERIAL1'), ('MATERIAL', 'MATERIAL2'), ('PURCHORD', 'PURCHORD0'), ('MATERIAL', 'MATERIAL4'), ('MATERIAL', 'MATERIAL5'), ('MATERIAL', 'MATERIAL0'), ('MATERIAL', 'MATERIAL3')}\n",
      "6 8\n",
      "{}\n",
      "{('INVOICE', 'INVOICE1'), ('PURCHORD', 'PURCHORD0'), ('INVOICE', 'INVOICE0')}\n",
      "3 4\n",
      "{}\n",
      "{('MATERIAL', 'MATERIAL1'), ('MATERIAL', 'MATERIAL2'), ('MATERIAL', 'MATERIAL4'), ('MATERIAL', 'MATERIAL5'), ('MATERIAL', 'MATERIAL0'), ('MATERIAL', 'MATERIAL3')}\n",
      "3 6\n",
      "{}\n",
      "{('PURCHORD', 'PURCHORD0')}\n",
      "3 8\n",
      "{}\n",
      "{('GDSRCPT', 'GDSRCPT0'), ('PURCHORD', 'PURCHORD0')}\n"
     ]
    }
   ],
   "source": [
    "# print edges source/ target\n",
    "for edge in feature_graph.edges:\n",
    "    print(edge.source, edge.target)\n",
    "    print(edge.attributes)\n",
    "    print(edge.objects)"
   ]
  },
  {
   "cell_type": "code",
   "execution_count": 145,
   "metadata": {},
   "outputs": [],
   "source": [
    "# get nx graph\n",
    "feature_nx_graph = feature_graphs_to_nx_graphs([feature_graph])[0]"
   ]
  },
  {
   "cell_type": "code",
   "execution_count": 146,
   "metadata": {},
   "outputs": [
    {
     "data": {
      "image/png": "[encoded data removed]",
      "text/plain": [
       "<Figure size 432x288 with 1 Axes>"
      ]
     },
     "metadata": {},
     "output_type": "display_data"
    }
   ],
   "source": [
    "# draw graph\n",
    "nx.draw(feature_nx_graph, with_labels=True)"
   ]
  },
  {
   "cell_type": "code",
   "execution_count": 147,
   "metadata": {},
   "outputs": [],
   "source": [
    "from karateclub.graph_embedding import graph2vec\n",
    "\n",
    "def perform_graph2vec(graph_list, attributed):\n",
    "    model = graph2vec.Graph2Vec(attributed=attributed)\n",
    "    model.fit(graph_list)\n",
    "    X = model.get_embedding()\n",
    "\n",
    "    return X"
   ]
  },
  {
   "cell_type": "code",
   "execution_count": 148,
   "metadata": {},
   "outputs": [],
   "source": [
    "X = perform_graph2vec([feature_nx_graph], False)"
   ]
  },
  {
   "cell_type": "code",
   "execution_count": 149,
   "metadata": {},
   "outputs": [
    {
     "data": {
      "text/plain": [
       "array([[ 6.2402021e-03,  7.3148422e-03,  6.2357578e-03, -5.9866384e-03,\n",
       "        -6.6280328e-03, -3.5368092e-03, -3.3451244e-03,  3.5964679e-03,\n",
       "        -5.2057132e-03, -6.6046119e-03, -3.6113895e-03,  7.5855386e-03,\n",
       "        -3.6392156e-03,  1.1712033e-03,  6.8686884e-03,  3.3843350e-03,\n",
       "        -7.5897761e-04,  7.2889421e-03, -4.6458151e-03,  4.3180529e-03,\n",
       "         3.1502247e-03, -2.7489886e-03, -7.2894990e-04, -6.8793725e-03,\n",
       "         4.1179359e-05, -2.0731930e-03,  7.7435616e-03, -3.6870521e-03,\n",
       "        -5.2786153e-03,  8.7743253e-04, -6.1075706e-03, -6.2231515e-03,\n",
       "        -5.1218141e-03, -4.7628861e-03, -3.3969637e-03, -1.5340224e-03,\n",
       "        -1.9398406e-03,  4.5053940e-03,  5.3389613e-03, -3.5429746e-03,\n",
       "        -4.9557034e-03,  6.0952269e-04, -3.5226997e-03,  2.0183623e-05,\n",
       "         5.6065749e-03,  3.0346606e-03, -4.2269900e-03, -1.0023266e-03,\n",
       "         1.4292635e-04, -6.3144658e-03,  7.7044722e-03,  6.4965114e-03,\n",
       "        -2.3301691e-05,  4.5703147e-03,  3.5206694e-03,  6.7663454e-03,\n",
       "         2.8518923e-03, -7.2505251e-03, -1.9152854e-03,  2.8028563e-03,\n",
       "        -4.4746883e-04,  3.8295444e-03,  2.7545802e-03,  3.4572687e-03,\n",
       "         4.3307599e-03,  4.5074485e-03, -3.9003752e-03,  3.6173072e-03,\n",
       "         7.6451376e-03,  8.4919482e-04, -6.0342290e-03, -6.7078322e-03,\n",
       "         2.7094781e-03,  2.8025955e-03, -5.4517090e-03,  1.0104850e-04,\n",
       "        -4.0938053e-03, -4.4563673e-03, -4.2084903e-03, -3.4567472e-03,\n",
       "        -7.5664241e-03, -2.8558578e-03, -3.1677075e-03, -2.4842378e-03,\n",
       "        -3.7212037e-03,  5.2572526e-03,  3.9065983e-03, -4.7429372e-03,\n",
       "         7.3296763e-04, -1.2282543e-03,  4.3653809e-03, -2.0148624e-03,\n",
       "        -1.1368841e-04,  7.0505813e-03,  6.1275065e-04,  6.5648016e-03,\n",
       "        -2.7930792e-03, -1.9638054e-04, -5.7475083e-04, -3.0103009e-03,\n",
       "        -1.6818773e-03, -5.7025347e-03,  3.4850389e-03,  6.8612527e-03,\n",
       "         7.3244441e-03,  7.0234947e-03,  7.0638191e-03, -6.0757175e-03,\n",
       "        -4.9041361e-03, -5.1719882e-03, -2.0875391e-03, -4.8293378e-03,\n",
       "        -1.1970960e-03, -2.9418357e-03,  4.1969195e-03,  4.9980748e-03,\n",
       "        -2.1603890e-03,  6.4806938e-03,  3.4388062e-03, -4.8668813e-03,\n",
       "         2.1375921e-03,  2.7400628e-03,  1.1955965e-03,  7.2311144e-03,\n",
       "        -1.1791829e-03,  4.9573481e-03,  2.9647183e-03,  5.0748568e-03]],\n",
       "      dtype=float32)"
      ]
     },
     "execution_count": 149,
     "metadata": {},
     "output_type": "execute_result"
    }
   ],
   "source": [
    "X"
   ]
  },
  {
   "cell_type": "markdown",
   "metadata": {},
   "source": [
    "**Extension for all process executions**"
   ]
  },
  {
   "cell_type": "code",
   "execution_count": 150,
   "metadata": {},
   "outputs": [],
   "source": [
    "feature_graph_list = feature_storage.feature_graphs\n",
    "feature_nx_graph_list = feature_graphs_to_nx_graphs(feature_graph_list)"
   ]
  },
  {
   "cell_type": "code",
   "execution_count": 151,
   "metadata": {},
   "outputs": [
    {
     "name": "stdout",
     "output_type": "stream",
     "text": [
      "Graph with 9 nodes and 9 edges\n"
     ]
    }
   ],
   "source": [
    "print(feature_nx_graph_list[10])"
   ]
  },
  {
   "cell_type": "code",
   "execution_count": 152,
   "metadata": {},
   "outputs": [
    {
     "name": "stdout",
     "output_type": "stream",
     "text": [
      "[0, 1, 2, 3, 4, 5, 6, 7, 8]\n"
     ]
    }
   ],
   "source": [
    "print(feature_nx_graph_list[10].nodes)"
   ]
  },
  {
   "cell_type": "code",
   "execution_count": 153,
   "metadata": {},
   "outputs": [],
   "source": [
    "embedding =perform_graph2vec(feature_nx_graph_list, False)"
   ]
  },
  {
   "cell_type": "code",
   "execution_count": 154,
   "metadata": {},
   "outputs": [
    {
     "data": {
      "text/plain": [
       "array([[ 0.00632935,  0.00735482,  0.00604519, ...,  0.00501382,\n",
       "         0.00303005,  0.00489794],\n",
       "       [ 0.00193807,  0.00768754, -0.00262609, ..., -0.00381194,\n",
       "         0.00399712, -0.00112242],\n",
       "       [ 0.00597892, -0.0009575 , -0.00692571, ..., -0.00466526,\n",
       "        -0.00747938,  0.00697827],\n",
       "       ...,\n",
       "       [ 0.00645399,  0.00456449,  0.00608036, ...,  0.00451704,\n",
       "        -0.00467776, -0.00462325],\n",
       "       [ 0.00443568,  0.00502195, -0.00097741, ...,  0.00190115,\n",
       "        -0.00249174, -0.00359886],\n",
       "       [ 0.00670268,  0.0062853 , -0.00172491, ..., -0.00702565,\n",
       "        -0.00123578, -0.00429699]], dtype=float32)"
      ]
     },
     "execution_count": 154,
     "metadata": {},
     "output_type": "execute_result"
    }
   ],
   "source": [
    "embedding"
   ]
  },
  {
   "cell_type": "code",
   "execution_count": 155,
   "metadata": {},
   "outputs": [
    {
     "name": "stdout",
     "output_type": "stream",
     "text": [
      "[[ 0.12345151  0.14345282  0.11790906 ...  0.09779249  0.05909994\n",
      "   0.09553235]\n",
      " [ 0.03811316  0.15117916 -0.05164344 ... -0.07496364  0.0786054\n",
      "  -0.02207286]\n",
      " [ 0.11239752 -0.01800005 -0.13019612 ... -0.08770215 -0.14060454\n",
      "   0.13118435]\n",
      " ...\n",
      " [ 0.12673442  0.089631    0.11939767 ...  0.08869936 -0.09185521\n",
      "  -0.09078486]\n",
      " [ 0.08916494  0.10094992 -0.01964774 ...  0.03821652 -0.05008829\n",
      "  -0.07234344]\n",
      " [ 0.13319679  0.12490252 -0.03427777 ... -0.13961491 -0.02455765\n",
      "  -0.08539052]]\n"
     ]
    }
   ],
   "source": [
    "# try normalize embedding\n",
    "from sklearn import preprocessing\n",
    "embedding_normalized = preprocessing.normalize(embedding)\n",
    "print(embedding_normalized)"
   ]
  },
  {
   "cell_type": "markdown",
   "metadata": {},
   "source": [
    "**Clustering**"
   ]
  },
  {
   "cell_type": "code",
   "execution_count": 156,
   "metadata": {},
   "outputs": [],
   "source": [
    "from sklearn.cluster import DBSCAN \n",
    "\n",
    "def perform_DBSCAN(X):\n",
    "    labels = DBSCAN(eps=0.1, min_samples=2).fit_predict(X)\n",
    "\n",
    "    return labels"
   ]
  },
  {
   "cell_type": "code",
   "execution_count": 157,
   "metadata": {},
   "outputs": [
    {
     "name": "stdout",
     "output_type": "stream",
     "text": [
      "[0 0 0 0 0 0 0 0 0 0 0 0 0 0 0 0 0 0 0 0 0 0 0 0 0 0 0 0 0 0 0 0 0 0 0 0 0\n",
      " 0 0 0 0 0 0 0 0 0 0 0 0 0 0 0 0 0 0 0 0 0 0 0 0 0 0 0 0 0 0 0 0 0 0 0 0 0\n",
      " 0 0 0 0 0 0]\n"
     ]
    }
   ],
   "source": [
    "labels = perform_DBSCAN(embedding)\n",
    "print(labels)"
   ]
  },
  {
   "cell_type": "code",
   "execution_count": 158,
   "metadata": {},
   "outputs": [
    {
     "name": "stdout",
     "output_type": "stream",
     "text": [
      "[-1 -1 -1 -1 -1 -1 -1 -1 -1 -1 -1 -1 -1 -1 -1 -1 -1 -1 -1 -1 -1 -1 -1 -1\n",
      " -1 -1 -1 -1 -1 -1 -1 -1 -1 -1 -1 -1 -1 -1 -1 -1 -1 -1 -1 -1 -1 -1 -1 -1\n",
      " -1 -1 -1 -1 -1 -1 -1 -1 -1 -1 -1 -1 -1 -1 -1 -1 -1 -1 -1 -1 -1 -1 -1 -1\n",
      " -1 -1 -1 -1 -1 -1 -1 -1]\n"
     ]
    }
   ],
   "source": [
    "labels_norm = perform_DBSCAN(embedding_normalized)\n",
    "print(labels_norm)"
   ]
  },
  {
   "cell_type": "code",
   "execution_count": 159,
   "metadata": {},
   "outputs": [],
   "source": [
    "from sklearn.cluster import MeanShift\n",
    "\n",
    "def perform_MeanShift(X):\n",
    "    clustering = MeanShift().fit(X)\n",
    "\n",
    "    return clustering.labels_"
   ]
  },
  {
   "cell_type": "code",
   "execution_count": 160,
   "metadata": {},
   "outputs": [
    {
     "data": {
      "text/plain": [
       "array([0, 0, 0, 0, 0, 0, 0, 0, 0, 0, 0, 0, 0, 0, 0, 0, 0, 0, 0, 0, 0, 0,\n",
       "       0, 0, 0, 0, 0, 0, 0, 0, 0, 0, 0, 0, 0, 0, 0, 0, 0, 0, 0, 0, 0, 0,\n",
       "       0, 0, 0, 0, 0, 0, 0, 0, 0, 0, 0, 0, 0, 0, 0, 0, 0, 0, 0, 0, 0, 0,\n",
       "       0, 0, 0, 0, 0, 0, 0, 0, 0, 0, 0, 0, 0, 0], dtype=int64)"
      ]
     },
     "execution_count": 160,
     "metadata": {},
     "output_type": "execute_result"
    }
   ],
   "source": [
    "perform_MeanShift(embedding)"
   ]
  },
  {
   "cell_type": "code",
   "execution_count": 161,
   "metadata": {},
   "outputs": [
    {
     "data": {
      "text/plain": [
       "array([0, 0, 0, 0, 0, 0, 0, 0, 0, 0, 0, 0, 0, 0, 0, 0, 0, 0, 0, 0, 0, 0,\n",
       "       0, 0, 0, 0, 0, 0, 0, 0, 0, 0, 0, 0, 0, 0, 0, 0, 0, 0, 0, 0, 0, 0,\n",
       "       0, 0, 0, 0, 0, 0, 0, 0, 0, 0, 0, 0, 0, 0, 0, 0, 0, 0, 0, 0, 0, 0,\n",
       "       0, 0, 0, 0, 0, 0, 0, 0, 0, 0, 0, 0, 0, 0], dtype=int64)"
      ]
     },
     "execution_count": 161,
     "metadata": {},
     "output_type": "execute_result"
    }
   ],
   "source": [
    "perform_MeanShift(embedding_normalized)"
   ]
  },
  {
   "cell_type": "markdown",
   "metadata": {},
   "source": [
    "**Try adding a feature**"
   ]
  },
  {
   "cell_type": "code",
   "execution_count": 162,
   "metadata": {},
   "outputs": [],
   "source": [
    "def feature_graphs_to_nx_graphs_single_feature(feature_graphs):\n",
    "    graph_list = []\n",
    "    for feature_graph in feature_graphs:\n",
    "        #G = nx.DiGraph()\n",
    "        G = nx.Graph()\n",
    "\n",
    "        node_dict = remap_nodes(feature_graph)\n",
    "\n",
    "        # replace node attribute dict keys (tuples) with only first part of tuple\n",
    "        for node in feature_graph.nodes:\n",
    "            # graph2vec needs str features\n",
    "            new_val = [str(val) for val in node.attributes.values()][0]\n",
    "            G.add_node(node_dict[node.event_id], feature=new_val)\n",
    "            #G.add_node(node.event_id, **node_attributes)\n",
    "\n",
    "        for edge in feature_graph.edges:\n",
    "            G.add_edge(node_dict[edge.source], node_dict[edge.target])\n",
    "            #G.add_edge(edge.source, edge.target)\n",
    "\n",
    "        graph_list.append(G)\n",
    "\n",
    "    return graph_list"
   ]
  },
  {
   "cell_type": "code",
   "execution_count": 163,
   "metadata": {},
   "outputs": [],
   "source": [
    "# Feature extraction\n",
    "feature_set_single = [(predictive_monitoring.EVENT_REMAINING_TIME, ())]\n",
    "feature_storage_single = extract_features(ocel_log, feature_set_single, [], \"\")[0]"
   ]
  },
  {
   "cell_type": "code",
   "execution_count": 164,
   "metadata": {},
   "outputs": [],
   "source": [
    "feature_graph_list_single = feature_storage_single.feature_graphs\n",
    "feature_nx_graph_list_single = feature_graphs_to_nx_graphs_single_feature(feature_graph_list_single)"
   ]
  },
  {
   "cell_type": "code",
   "execution_count": 165,
   "metadata": {},
   "outputs": [
    {
     "data": {
      "text/plain": [
       "{0: '86400.0',\n",
       " 1: '86400.0',\n",
       " 2: '950400.0',\n",
       " 3: '604800.0',\n",
       " 4: '691200.0',\n",
       " 5: '0.0',\n",
       " 6: '86400.0',\n",
       " 7: '0.0',\n",
       " 8: '345600.0'}"
      ]
     },
     "execution_count": 165,
     "metadata": {},
     "output_type": "execute_result"
    }
   ],
   "source": [
    "nx.get_node_attributes(feature_nx_graph_list_single[0], 'feature')"
   ]
  },
  {
   "cell_type": "code",
   "execution_count": 166,
   "metadata": {},
   "outputs": [],
   "source": [
    "embedding_single = perform_graph2vec(feature_nx_graph_list_single, True)"
   ]
  },
  {
   "cell_type": "code",
   "execution_count": 167,
   "metadata": {},
   "outputs": [
    {
     "name": "stdout",
     "output_type": "stream",
     "text": [
      "[0 0 0 0 0 0 0 0 0 0 0 0 0 0 0 0 0 0 0 0 0 0 0 0 0 0 0 0 0 0 0 0 0 0 0 0 0\n",
      " 0 0 0 0 0 0 0 0 0 0 0 0 0 0 0 0 0 0 0 0 0 0 0 0 0 0 0 0 0 0 0 0 0 0 0 0 0\n",
      " 0 0 0 0 0 0]\n"
     ]
    }
   ],
   "source": [
    "labels_single = perform_DBSCAN(embedding_single)\n",
    "print(labels_single)"
   ]
  },
  {
   "cell_type": "code",
   "execution_count": 131,
   "metadata": {},
   "outputs": [
    {
     "data": {
      "text/plain": [
       "array([0, 0, 0, 0, 0, 0, 0, 0, 0, 0, 0, 0, 0, 0, 0, 0, 0, 0, 0, 0, 0, 0,\n",
       "       0, 0, 0, 0, 0, 0, 0, 0, 0, 0, 0, 0, 0, 0, 0, 0, 0, 0, 0, 0, 0, 0,\n",
       "       0, 0, 0, 0, 0, 0, 0, 0, 0, 0, 0, 0, 0, 0, 0, 0, 0, 0, 0, 0, 0, 0,\n",
       "       0, 0, 0, 0, 0, 0, 0, 0, 0, 0, 0, 0, 0, 0], dtype=int64)"
      ]
     },
     "execution_count": 131,
     "metadata": {},
     "output_type": "execute_result"
    }
   ],
   "source": [
    "perform_MeanShift(embedding_single)"
   ]
  }
 ],
 "metadata": {
  "kernelspec": {
   "display_name": "Python 3.9.13 64-bit (microsoft store)",
   "language": "python",
   "name": "python3"
  },
  "language_info": {
   "codemirror_mode": {
    "name": "ipython",
    "version": 3
   },
   "file_extension": ".py",
   "mimetype": "text/x-python",
   "name": "python",
   "nbconvert_exporter": "python",
   "pygments_lexer": "ipython3",
   "version": "3.9.13"
  },
  "orig_nbformat": 4,
  "vscode": {
   "interpreter": {
    "hash": "9a29511bac30a5bcbb21734c52739113f9302bbd6d821c3fca340c0f0260e187"
   }
  }
 },
 "nbformat": 4,
 "nbformat_minor": 2
}
